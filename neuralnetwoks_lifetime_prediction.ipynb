{
 "cells": [
  {
   "cell_type": "code",
   "execution_count": 93,
   "id": "28b60f9d",
   "metadata": {},
   "outputs": [],
   "source": [
    "import pandas as pd\n",
    "from sklearn.model_selection import train_test_split\n",
    "from sklearn.preprocessing import StandardScaler\n",
    "import tensorflow as tf\n",
    "from tensorflow import keras\n",
    "from tensorflow.keras import layers\n",
    "import matplotlib.pyplot as plt\n"
   ]
  },
  {
   "cell_type": "code",
   "execution_count": 80,
   "id": "66232c38",
   "metadata": {},
   "outputs": [
    {
     "data": {
      "text/plain": [
       "(111, 52)"
      ]
     },
     "execution_count": 80,
     "metadata": {},
     "output_type": "execute_result"
    }
   ],
   "source": [
    "csv_file_path = 'extracted_data/extracted_voltage_data_3.6.csv'\n",
    "\n",
    "df = pd.read_csv(csv_file_path)\n",
    "\n",
    "df.shape"
   ]
  },
  {
   "cell_type": "code",
   "execution_count": 96,
   "id": "1d4bc1d9",
   "metadata": {},
   "outputs": [
    {
     "name": "stdout",
     "output_type": "stream",
     "text": [
      "X_train shape: (99, 50)\n",
      "X_test shape: (12, 50)\n",
      "y_train shape: (99,)\n",
      "y_test shape: (12,)\n"
     ]
    }
   ],
   "source": [
    "X = df.iloc[:, :-2]\n",
    "y = df['Capacity'] \n",
    "\n",
    "X_train, X_test, y_train, y_test = train_test_split(X, y, test_size=0.1, random_state=42)\n",
    "\n",
    "# Print the shapes of the resulting sets\n",
    "print(\"X_train shape:\", X_train.shape)\n",
    "print(\"X_test shape:\", X_test.shape)\n",
    "print(\"y_train shape:\", y_train.shape)\n",
    "print(\"y_test shape:\", y_test.shape)"
   ]
  },
  {
   "cell_type": "code",
   "execution_count": 97,
   "id": "6027639f",
   "metadata": {},
   "outputs": [],
   "source": [
    "scaler = StandardScaler()\n",
    "\n",
    "X_train_scaled = scaler.fit_transform(X_train)\n",
    "X_test_scaled = scaler.transform(X_test)\n",
    "\n",
    "#y_train_scaled = scaler.fit_transform(X_train)\n",
    "#y_test_scaled = scaler.transform(X_test)"
   ]
  },
  {
   "cell_type": "code",
   "execution_count": 92,
   "id": "b07f88bd",
   "metadata": {},
   "outputs": [
    {
     "data": {
      "text/plain": [
       "0      1.782800\n",
       "81     1.701923\n",
       "18     1.665415\n",
       "70     1.540989\n",
       "56     1.544159\n",
       "         ...   \n",
       "106    0.777912\n",
       "14     0.483638\n",
       "92     0.594002\n",
       "51     1.771600\n",
       "102    1.404209\n",
       "Name: Capacity, Length: 99, dtype: float64"
      ]
     },
     "execution_count": 92,
     "metadata": {},
     "output_type": "execute_result"
    }
   ],
   "source": [
    "y_train"
   ]
  },
  {
   "cell_type": "code",
   "execution_count": 98,
   "id": "bc52db3e",
   "metadata": {},
   "outputs": [],
   "source": [
    "model = keras.Sequential([\n",
    "    layers.Dense(128, activation='relu', input_shape=(X_train.shape[1],)),\n",
    "    layers.Dense(64, activation='relu'),\n",
    "    layers.Dense(1, activation='linear')\n",
    "])"
   ]
  },
  {
   "cell_type": "code",
   "execution_count": 99,
   "id": "bd70938f",
   "metadata": {},
   "outputs": [],
   "source": [
    "model.compile(optimizer='adam', loss=tf.compat.v1.losses.mean_squared_error)"
   ]
  },
  {
   "cell_type": "code",
   "execution_count": 100,
   "id": "3e136f79",
   "metadata": {},
   "outputs": [
    {
     "name": "stdout",
     "output_type": "stream",
     "text": [
      "Epoch 1/100\n",
      "3/3 - 4s - loss: 5.5458 - val_loss: 2.2720 - 4s/epoch - 1s/step\n",
      "Epoch 2/100\n",
      "3/3 - 0s - loss: 2.8771 - val_loss: 2.8474 - 120ms/epoch - 40ms/step\n",
      "Epoch 3/100\n",
      "3/3 - 0s - loss: 1.4568 - val_loss: 0.2524 - 208ms/epoch - 69ms/step\n",
      "Epoch 4/100\n",
      "3/3 - 0s - loss: 0.9291 - val_loss: 0.9992 - 211ms/epoch - 70ms/step\n",
      "Epoch 5/100\n",
      "3/3 - 0s - loss: 1.4987 - val_loss: 0.3588 - 211ms/epoch - 70ms/step\n",
      "Epoch 6/100\n",
      "3/3 - 0s - loss: 0.6828 - val_loss: 0.6900 - 214ms/epoch - 71ms/step\n",
      "Epoch 7/100\n",
      "3/3 - 0s - loss: 0.8420 - val_loss: 1.0921 - 199ms/epoch - 66ms/step\n",
      "Epoch 8/100\n",
      "3/3 - 0s - loss: 0.8328 - val_loss: 0.4248 - 207ms/epoch - 69ms/step\n",
      "Epoch 9/100\n",
      "3/3 - 0s - loss: 0.4850 - val_loss: 0.2712 - 186ms/epoch - 62ms/step\n",
      "Epoch 10/100\n",
      "3/3 - 0s - loss: 0.6964 - val_loss: 0.3005 - 224ms/epoch - 75ms/step\n",
      "Epoch 11/100\n",
      "3/3 - 0s - loss: 0.6275 - val_loss: 0.2849 - 185ms/epoch - 62ms/step\n",
      "Epoch 12/100\n",
      "3/3 - 0s - loss: 0.5249 - val_loss: 0.5249 - 112ms/epoch - 37ms/step\n",
      "Epoch 13/100\n",
      "3/3 - 0s - loss: 0.5978 - val_loss: 0.4478 - 153ms/epoch - 51ms/step\n",
      "Epoch 14/100\n",
      "3/3 - 0s - loss: 0.5409 - val_loss: 0.2729 - 188ms/epoch - 63ms/step\n",
      "Epoch 15/100\n",
      "3/3 - 0s - loss: 0.5322 - val_loss: 0.2539 - 191ms/epoch - 64ms/step\n",
      "Epoch 16/100\n",
      "3/3 - 0s - loss: 0.5207 - val_loss: 0.2904 - 215ms/epoch - 72ms/step\n",
      "Epoch 17/100\n",
      "3/3 - 0s - loss: 0.5345 - val_loss: 0.4163 - 143ms/epoch - 48ms/step\n",
      "Epoch 18/100\n",
      "3/3 - 0s - loss: 0.5304 - val_loss: 0.3456 - 145ms/epoch - 48ms/step\n",
      "Epoch 19/100\n",
      "3/3 - 0s - loss: 0.4948 - val_loss: 0.2644 - 243ms/epoch - 81ms/step\n",
      "Epoch 20/100\n",
      "3/3 - 0s - loss: 0.5421 - val_loss: 0.2556 - 163ms/epoch - 54ms/step\n",
      "Epoch 21/100\n",
      "3/3 - 0s - loss: 0.5129 - val_loss: 0.3232 - 197ms/epoch - 66ms/step\n",
      "Epoch 22/100\n",
      "3/3 - 0s - loss: 0.5108 - val_loss: 0.3988 - 148ms/epoch - 49ms/step\n",
      "Epoch 23/100\n",
      "3/3 - 0s - loss: 0.5295 - val_loss: 0.3281 - 175ms/epoch - 58ms/step\n",
      "Epoch 24/100\n",
      "3/3 - 0s - loss: 0.5252 - val_loss: 0.2569 - 122ms/epoch - 41ms/step\n",
      "Epoch 25/100\n",
      "3/3 - 0s - loss: 0.5200 - val_loss: 0.2835 - 155ms/epoch - 52ms/step\n",
      "Epoch 26/100\n",
      "3/3 - 0s - loss: 0.5210 - val_loss: 0.3705 - 180ms/epoch - 60ms/step\n",
      "Epoch 27/100\n",
      "3/3 - 0s - loss: 0.5123 - val_loss: 0.3117 - 225ms/epoch - 75ms/step\n",
      "Epoch 28/100\n",
      "3/3 - 1s - loss: 0.4995 - val_loss: 0.2800 - 520ms/epoch - 173ms/step\n",
      "Epoch 29/100\n",
      "3/3 - 0s - loss: 0.5065 - val_loss: 0.2798 - 77ms/epoch - 26ms/step\n",
      "Epoch 30/100\n",
      "3/3 - 0s - loss: 0.5029 - val_loss: 0.3054 - 70ms/epoch - 23ms/step\n",
      "Epoch 31/100\n",
      "3/3 - 0s - loss: 0.5045 - val_loss: 0.3370 - 64ms/epoch - 21ms/step\n",
      "Epoch 32/100\n",
      "3/3 - 0s - loss: 0.5046 - val_loss: 0.3040 - 72ms/epoch - 24ms/step\n",
      "Epoch 33/100\n",
      "3/3 - 0s - loss: 0.5052 - val_loss: 0.2821 - 102ms/epoch - 34ms/step\n",
      "Epoch 34/100\n",
      "3/3 - 0s - loss: 0.5055 - val_loss: 0.3117 - 132ms/epoch - 44ms/step\n",
      "Epoch 35/100\n",
      "3/3 - 0s - loss: 0.5038 - val_loss: 0.3065 - 298ms/epoch - 99ms/step\n",
      "Epoch 36/100\n",
      "3/3 - 0s - loss: 0.5050 - val_loss: 0.3114 - 99ms/epoch - 33ms/step\n",
      "Epoch 37/100\n",
      "3/3 - 0s - loss: 0.5095 - val_loss: 0.2865 - 62ms/epoch - 21ms/step\n",
      "Epoch 38/100\n",
      "3/3 - 0s - loss: 0.5030 - val_loss: 0.3141 - 70ms/epoch - 23ms/step\n",
      "Epoch 39/100\n",
      "3/3 - 0s - loss: 0.5071 - val_loss: 0.3288 - 91ms/epoch - 30ms/step\n",
      "Epoch 40/100\n",
      "3/3 - 0s - loss: 0.5066 - val_loss: 0.2820 - 122ms/epoch - 41ms/step\n",
      "Epoch 41/100\n",
      "3/3 - 0s - loss: 0.5111 - val_loss: 0.2869 - 117ms/epoch - 39ms/step\n",
      "Epoch 42/100\n",
      "3/3 - 0s - loss: 0.4974 - val_loss: 0.3419 - 438ms/epoch - 146ms/step\n",
      "Epoch 43/100\n",
      "3/3 - 0s - loss: 0.5178 - val_loss: 0.3700 - 197ms/epoch - 66ms/step\n",
      "Epoch 44/100\n",
      "3/3 - 0s - loss: 0.5126 - val_loss: 0.2739 - 196ms/epoch - 65ms/step\n",
      "Epoch 45/100\n",
      "3/3 - 0s - loss: 0.5079 - val_loss: 0.2807 - 113ms/epoch - 38ms/step\n",
      "Epoch 46/100\n",
      "3/3 - 0s - loss: 0.5078 - val_loss: 0.2992 - 211ms/epoch - 70ms/step\n",
      "Epoch 47/100\n",
      "3/3 - 0s - loss: 0.5010 - val_loss: 0.3591 - 203ms/epoch - 68ms/step\n",
      "Epoch 48/100\n",
      "3/3 - 0s - loss: 0.5154 - val_loss: 0.3132 - 214ms/epoch - 71ms/step\n",
      "Epoch 49/100\n",
      "3/3 - 0s - loss: 0.5085 - val_loss: 0.2680 - 231ms/epoch - 77ms/step\n",
      "Epoch 50/100\n",
      "3/3 - 0s - loss: 0.5270 - val_loss: 0.3215 - 213ms/epoch - 71ms/step\n",
      "Epoch 51/100\n",
      "3/3 - 0s - loss: 0.5072 - val_loss: 0.2863 - 120ms/epoch - 40ms/step\n",
      "Epoch 52/100\n",
      "3/3 - 0s - loss: 0.5081 - val_loss: 0.3116 - 236ms/epoch - 79ms/step\n",
      "Epoch 53/100\n",
      "3/3 - 0s - loss: 0.5037 - val_loss: 0.3080 - 177ms/epoch - 59ms/step\n",
      "Epoch 54/100\n",
      "3/3 - 0s - loss: 0.5076 - val_loss: 0.2941 - 182ms/epoch - 61ms/step\n",
      "Epoch 55/100\n",
      "3/3 - 0s - loss: 0.5252 - val_loss: 0.2831 - 178ms/epoch - 59ms/step\n",
      "Epoch 56/100\n",
      "3/3 - 0s - loss: 0.5168 - val_loss: 0.3711 - 196ms/epoch - 65ms/step\n",
      "Epoch 57/100\n",
      "3/3 - 0s - loss: 0.5177 - val_loss: 0.2950 - 75ms/epoch - 25ms/step\n",
      "Epoch 58/100\n",
      "3/3 - 0s - loss: 0.4978 - val_loss: 0.2624 - 128ms/epoch - 43ms/step\n",
      "Epoch 59/100\n",
      "3/3 - 0s - loss: 0.5320 - val_loss: 0.2800 - 157ms/epoch - 52ms/step\n",
      "Epoch 60/100\n",
      "3/3 - 0s - loss: 0.5039 - val_loss: 0.3563 - 176ms/epoch - 59ms/step\n",
      "Epoch 61/100\n",
      "3/3 - 0s - loss: 0.5214 - val_loss: 0.3334 - 227ms/epoch - 76ms/step\n",
      "Epoch 62/100\n",
      "3/3 - 0s - loss: 0.4994 - val_loss: 0.2633 - 161ms/epoch - 54ms/step\n",
      "Epoch 63/100\n",
      "3/3 - 0s - loss: 0.5177 - val_loss: 0.2812 - 190ms/epoch - 63ms/step\n",
      "Epoch 64/100\n",
      "3/3 - 0s - loss: 0.4953 - val_loss: 0.3665 - 162ms/epoch - 54ms/step\n",
      "Epoch 65/100\n",
      "3/3 - 0s - loss: 0.5145 - val_loss: 0.3427 - 137ms/epoch - 46ms/step\n",
      "Epoch 66/100\n",
      "3/3 - 0s - loss: 0.5102 - val_loss: 0.2747 - 145ms/epoch - 48ms/step\n",
      "Epoch 67/100\n",
      "3/3 - 0s - loss: 0.5130 - val_loss: 0.2909 - 142ms/epoch - 47ms/step\n",
      "Epoch 68/100\n",
      "3/3 - 0s - loss: 0.5148 - val_loss: 0.3513 - 174ms/epoch - 58ms/step\n",
      "Epoch 69/100\n",
      "3/3 - 0s - loss: 0.5059 - val_loss: 0.2826 - 216ms/epoch - 72ms/step\n",
      "Epoch 70/100\n",
      "3/3 - 0s - loss: 0.5124 - val_loss: 0.2760 - 144ms/epoch - 48ms/step\n",
      "Epoch 71/100\n",
      "3/3 - 0s - loss: 0.5135 - val_loss: 0.3599 - 77ms/epoch - 26ms/step\n",
      "Epoch 72/100\n",
      "3/3 - 0s - loss: 0.5128 - val_loss: 0.2962 - 83ms/epoch - 28ms/step\n",
      "Epoch 73/100\n",
      "3/3 - 0s - loss: 0.5192 - val_loss: 0.2604 - 97ms/epoch - 32ms/step\n",
      "Epoch 74/100\n",
      "3/3 - 0s - loss: 0.5190 - val_loss: 0.3536 - 105ms/epoch - 35ms/step\n",
      "Epoch 75/100\n",
      "3/3 - 0s - loss: 0.5184 - val_loss: 0.3236 - 99ms/epoch - 33ms/step\n",
      "Epoch 76/100\n",
      "3/3 - 0s - loss: 0.5299 - val_loss: 0.2626 - 108ms/epoch - 36ms/step\n",
      "Epoch 77/100\n",
      "3/3 - 0s - loss: 0.5065 - val_loss: 0.3341 - 239ms/epoch - 80ms/step\n",
      "Epoch 78/100\n",
      "3/3 - 0s - loss: 0.5131 - val_loss: 0.3508 - 123ms/epoch - 41ms/step\n",
      "Epoch 79/100\n",
      "3/3 - 0s - loss: 0.5042 - val_loss: 0.2703 - 117ms/epoch - 39ms/step\n",
      "Epoch 80/100\n",
      "3/3 - 0s - loss: 0.5128 - val_loss: 0.2844 - 96ms/epoch - 32ms/step\n",
      "Epoch 81/100\n",
      "3/3 - 0s - loss: 0.5108 - val_loss: 0.3659 - 196ms/epoch - 65ms/step\n",
      "Epoch 82/100\n",
      "3/3 - 0s - loss: 0.5073 - val_loss: 0.2891 - 162ms/epoch - 54ms/step\n",
      "Epoch 83/100\n",
      "3/3 - 0s - loss: 0.5212 - val_loss: 0.2660 - 145ms/epoch - 48ms/step\n",
      "Epoch 84/100\n",
      "3/3 - 0s - loss: 0.5058 - val_loss: 0.3605 - 194ms/epoch - 65ms/step\n",
      "Epoch 85/100\n",
      "3/3 - 0s - loss: 0.5113 - val_loss: 0.3236 - 188ms/epoch - 63ms/step\n",
      "Epoch 86/100\n",
      "3/3 - 0s - loss: 0.5005 - val_loss: 0.2745 - 202ms/epoch - 67ms/step\n",
      "Epoch 87/100\n",
      "3/3 - 0s - loss: 0.5081 - val_loss: 0.2946 - 225ms/epoch - 75ms/step\n",
      "Epoch 88/100\n",
      "3/3 - 0s - loss: 0.5118 - val_loss: 0.3012 - 179ms/epoch - 60ms/step\n",
      "Epoch 89/100\n",
      "3/3 - 0s - loss: 0.5100 - val_loss: 0.3270 - 182ms/epoch - 61ms/step\n",
      "Epoch 90/100\n",
      "3/3 - 0s - loss: 0.5084 - val_loss: 0.2766 - 348ms/epoch - 116ms/step\n",
      "Epoch 91/100\n",
      "3/3 - 0s - loss: 0.5078 - val_loss: 0.3214 - 130ms/epoch - 43ms/step\n",
      "Epoch 92/100\n",
      "3/3 - 0s - loss: 0.5135 - val_loss: 0.3165 - 71ms/epoch - 24ms/step\n",
      "Epoch 93/100\n",
      "3/3 - 0s - loss: 0.5231 - val_loss: 0.2628 - 76ms/epoch - 25ms/step\n",
      "Epoch 94/100\n",
      "3/3 - 0s - loss: 0.5285 - val_loss: 0.3595 - 111ms/epoch - 37ms/step\n",
      "Epoch 95/100\n",
      "3/3 - 0s - loss: 0.5082 - val_loss: 0.2897 - 149ms/epoch - 50ms/step\n",
      "Epoch 96/100\n",
      "3/3 - 0s - loss: 0.5118 - val_loss: 0.2806 - 97ms/epoch - 32ms/step\n",
      "Epoch 97/100\n",
      "3/3 - 0s - loss: 0.5047 - val_loss: 0.3067 - 110ms/epoch - 37ms/step\n",
      "Epoch 98/100\n",
      "3/3 - 0s - loss: 0.5122 - val_loss: 0.3159 - 81ms/epoch - 27ms/step\n",
      "Epoch 99/100\n",
      "3/3 - 0s - loss: 0.4999 - val_loss: 0.2799 - 153ms/epoch - 51ms/step\n",
      "Epoch 100/100\n",
      "3/3 - 0s - loss: 0.5052 - val_loss: 0.2884 - 127ms/epoch - 42ms/step\n"
     ]
    }
   ],
   "source": [
    "history = model.fit(X_train, y_train, epochs=100, batch_size=32, validation_split=0.1, verbose=2)"
   ]
  },
  {
   "cell_type": "code",
   "execution_count": 101,
   "id": "0d116a66",
   "metadata": {},
   "outputs": [
    {
     "name": "stdout",
     "output_type": "stream",
     "text": [
      "1/1 [==============================] - 0s 61ms/step - loss: 0.2401\n",
      "Test Loss: 0.24014444649219513\n",
      "Accuracy: 0.7598555535078049\n"
     ]
    }
   ],
   "source": [
    "# Evaluate the model on the test set\n",
    "loss = model.evaluate(X_test, y_test)\n",
    "print(f\"Test Loss: {loss}\")\n",
    "accuracy = 1 - loss\n",
    "print(f\"Accuracy: {accuracy}\")"
   ]
  },
  {
   "cell_type": "code",
   "execution_count": 102,
   "id": "4494f98e",
   "metadata": {},
   "outputs": [
    {
     "name": "stdout",
     "output_type": "stream",
     "text": [
      "WARNING:tensorflow:5 out of the last 15 calls to <function Model.make_predict_function.<locals>.predict_function at 0x000001AB6AEA6C00> triggered tf.function retracing. Tracing is expensive and the excessive number of tracings could be due to (1) creating @tf.function repeatedly in a loop, (2) passing tensors with different shapes, (3) passing Python objects instead of tensors. For (1), please define your @tf.function outside of the loop. For (2), @tf.function has reduce_retracing=True option that can avoid unnecessary retracing. For (3), please refer to https://www.tensorflow.org/guide/function#controlling_retracing and https://www.tensorflow.org/api_docs/python/tf/function for  more details.\n",
      "1/1 [==============================] - 0s 395ms/step\n",
      "True Value: 0.52  |  Predicted Value: 1.30  |  Difference: -0.78\n",
      "True Value: 0.99  |  Predicted Value: 1.30  |  Difference: -0.31\n",
      "True Value: 1.62  |  Predicted Value: 1.30  |  Difference: 0.32\n",
      "True Value: 1.63  |  Predicted Value: 1.30  |  Difference: 0.34\n",
      "True Value: 1.73  |  Predicted Value: 1.30  |  Difference: 0.43\n",
      "True Value: 1.61  |  Predicted Value: 1.30  |  Difference: 0.31\n",
      "True Value: 0.60  |  Predicted Value: 1.30  |  Difference: -0.70\n",
      "True Value: 0.70  |  Predicted Value: 1.30  |  Difference: -0.60\n",
      "True Value: 1.70  |  Predicted Value: 1.30  |  Difference: 0.40\n",
      "True Value: 0.80  |  Predicted Value: 1.30  |  Difference: -0.50\n",
      "True Value: 1.79  |  Predicted Value: 1.30  |  Difference: 0.49\n",
      "True Value: 1.72  |  Predicted Value: 1.30  |  Difference: 0.42\n"
     ]
    }
   ],
   "source": [
    "# Assuming y_test is a Pandas DataFrame\n",
    "y_test_values = y_test.to_numpy().flatten()\n",
    "\n",
    "# Get model predictions\n",
    "predictions = model.predict(X_test).flatten()\n",
    "\n",
    "# Print y_test, predictions, and the difference side by side\n",
    "for true_value, predicted_value in zip(y_test_values, predictions):\n",
    "    difference = true_value - predicted_value\n",
    "    print(f'True Value: {true_value:.2f}  |  Predicted Value: {predicted_value:.2f}  |  Difference: {difference:.2f}')\n"
   ]
  },
  {
   "cell_type": "code",
   "execution_count": 56,
   "id": "3984202a",
   "metadata": {},
   "outputs": [
    {
     "name": "stdout",
     "output_type": "stream",
     "text": [
      "1/1 [==============================] - 0s 62ms/step\n"
     ]
    },
    {
     "data": {
      "text/plain": [
       "array([[2.6437926],\n",
       "       [2.6436043],\n",
       "       [2.6436803],\n",
       "       [2.6438177],\n",
       "       [2.6436932],\n",
       "       [2.6438186],\n",
       "       [2.643614 ],\n",
       "       [2.643766 ],\n",
       "       [2.643665 ],\n",
       "       [2.6437173],\n",
       "       [2.643766 ],\n",
       "       [2.643982 ],\n",
       "       [2.6438334],\n",
       "       [2.6438172],\n",
       "       [2.6436808]], dtype=float32)"
      ]
     },
     "execution_count": 56,
     "metadata": {},
     "output_type": "execute_result"
    }
   ],
   "source": [
    "model.predict(X_test)"
   ]
  },
  {
   "cell_type": "code",
   "execution_count": 55,
   "metadata": {},
   "outputs": [
    {
     "data": {
      "image/png": "[encoded data removed]",
      "text/plain": [
       "<Figure size 640x480 with 1 Axes>"
      ]
     },
     "metadata": {},
     "output_type": "display_data"
    }
   ],
   "source": [
    "\n",
    "# Plot actual values vs predictions\n",
    "plt.scatter(predictions, y_test_values)\n",
    "plt.ylabel('Predictions')\n",
    "plt.xlabel('Actual Values')\n",
    "plt.title('Actual Values vs Predictions')\n",
    "\n",
    "plt.show()"
   ]
  },
  {
   "cell_type": "code",
   "execution_count": null,
   "id": "668ea8fd",
   "metadata": {},
   "outputs": [],
   "source": []
  }
 ],
 "metadata": {
  "kernelspec": {
   "display_name": "Python 3 (ipykernel)",
   "language": "python",
   "name": "python3"
  },
  "language_info": {
   "codemirror_mode": {
    "name": "ipython",
    "version": 3
   },
   "file_extension": ".py",
   "mimetype": "text/x-python",
   "name": "python",
   "nbconvert_exporter": "python",
   "pygments_lexer": "ipython3",
   "version": "3.11.0"
  }
 },
 "nbformat": 4,
 "nbformat_minor": 5
}
