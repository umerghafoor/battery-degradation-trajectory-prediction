{
 "cells": [
  {
   "cell_type": "markdown",
   "metadata": {},
   "source": [
    "# Extract Data from Zip files"
   ]
  },
  {
   "cell_type": "code",
   "execution_count": null,
   "metadata": {},
   "outputs": [],
   "source": [
    "import os\n",
    "import zipfile\n",
    "\n",
    "def unzip_all_files(folder_path, output_folder):\n",
    "    # Ensure the output folder exists\n",
    "    if not os.path.exists(output_folder):\n",
    "        os.makedirs(output_folder)\n",
    "\n",
    "    i = 0\n",
    "    # Iterate through each file in the folder\n",
    "    for filename in os.listdir(folder_path):\n",
    "        file_path = os.path.join(folder_path, filename)\n",
    "\n",
    "        # Check if the file is a zip file\n",
    "        if filename.endswith('.zip'):\n",
    "            try:\n",
    "                # Open the zip file\n",
    "                with zipfile.ZipFile(file_path, 'r') as zip_ref:\n",
    "                    # Extract all contents to the output folder\n",
    "                    zip_ref.extractall(output_folder)\n",
    "                    print(f\" {i} Successfully unzipped: {filename}\")\n",
    "                    i=i+1\n",
    "            except zipfile.BadZipFile:\n",
    "                print(f\"Error: {filename} is not a valid zip file. Skipping.\")\n",
    "\n",
    "# Example usage\n",
    "\n",
    "folder_to_unzip = ''#path of zip files\n",
    "output_folder = 'data'\n",
    "\n",
    "unzip_all_files(folder_to_unzip, output_folder)\n"
   ]
  },
  {
   "cell_type": "code",
   "execution_count": null,
   "metadata": {},
   "outputs": [],
   "source": [
    "import shutil\n",
    "\n",
    "# Set the directory where your files are located\n",
    "source_directory = \"data\"\n",
    "\n",
    "# List all files in the source directory\n",
    "files = os.listdir(source_directory)\n",
    "\n",
    "# Iterate through each file\n",
    "for file in files:\n",
    "    # Extract the production number from the file name\n",
    "    production_number = file.split(\"=\")[1].strip()\n",
    "\n",
    "    # Create a destination folder based on the production number\n",
    "    destination_folder = os.path.join(source_directory, f\"e production=ep sanyo {production_number}\")\n",
    "\n",
    "    # If the folder doesn't exist, create it\n",
    "    if not os.path.exists(destination_folder):\n",
    "        os.makedirs(destination_folder)\n",
    "\n",
    "    # Build the full source and destination paths\n",
    "    source_path = os.path.join(source_directory, file)\n",
    "    destination_path = os.path.join(destination_folder, file)\n",
    "\n",
    "    # Move the file to the destination folder\n",
    "    shutil.move(source_path, destination_path)\n",
    "\n",
    "print(\"Files organized into folders.\")\n"
   ]
  }
 ],
 "metadata": {
  "language_info": {
   "name": "python"
  }
 },
 "nbformat": 4,
 "nbformat_minor": 2
}
