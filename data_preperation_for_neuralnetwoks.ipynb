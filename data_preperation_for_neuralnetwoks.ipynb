{
 "cells": [
  {
   "cell_type": "code",
   "execution_count": 27,
   "id": "865fa9a3-7cda-4cf0-a15e-a95973331a3c",
   "metadata": {},
   "outputs": [],
   "source": [
    "import pandas as pd\n",
    "import matplotlib.pyplot as plt\n",
    "import os\n",
    "import glob\n",
    "from functions import *\n",
    "import csv\n",
    "import numpy as np\n"
   ]
  },
  {
   "cell_type": "markdown",
   "id": "e0839c57",
   "metadata": {},
   "source": [
    "# 1 Folder Data loading\n",
    "The code is loading multiple CSV files from a specified folder path and converting them into pandas DataFrames."
   ]
  },
  {
   "cell_type": "code",
   "execution_count": null,
   "id": "d9dbaa46",
   "metadata": {},
   "outputs": [],
   "source": [
    "folder_path = \"data/e production=ep sanyo ep sanyo 002\" \n",
    "csv_files = glob.glob(os.path.join(folder_path, \"*.csv\"))\n",
    "\n",
    "dataframes = []\n",
    "dfarrnames = []\n",
    "\n",
    "# Loop through the CSV files and load only those ending with \"Format01=Kreis 5-064\" and \"TBA_CU\"\n",
    "for csv_file in csv_files:\n",
    "    if \"Format01=Kreis\" in csv_file:\n",
    "        if \"TBA_Zyk\" in csv_file:\n",
    "            dfarr = pd.read_csv(csv_file, skiprows=[1])\n",
    "            dfarr['Zeit'] = dfarr['Zeit'].apply(convert_to_linear_time)\n",
    "            dfarr['Zeit'] = dfarr['Zeit'] - dfarr['Zeit'].iloc[0]\n",
    "            dfarr['Zeit'] = dfarr['Zeit'] / 3600\n",
    "            dataframes.append(dfarr)\n",
    "            dfarrnames.append(csv_file)\n",
    "\n",
    "noFiles = 0\n",
    "for i, dfarr in enumerate(dataframes):\n",
    "    num_rows, num_columns = dfarr.shape\n",
    "    print(f\"DataFrame {i + 1} - Rows: {num_rows}, Columns: {num_columns}\")\n",
    "    noFiles += 1\n",
    "print(noFiles)"
   ]
  },
  {
   "cell_type": "markdown",
   "id": "6afb0987",
   "metadata": {},
   "source": [
    "test that data is loaded succesfully"
   ]
  },
  {
   "cell_type": "code",
   "execution_count": null,
   "id": "6de4da17",
   "metadata": {},
   "outputs": [],
   "source": [
    "num_rows, num_columns = dataframes[1].shape\n",
    "\n",
    "print(f\"Number of rows (length): {num_rows}\")\n",
    "print(f\"Number of columns (width): {num_columns}\")\n",
    "# dataframes[0].head()"
   ]
  },
  {
   "cell_type": "markdown",
   "id": "8115467c",
   "metadata": {},
   "source": [
    "Deleting Invalid data"
   ]
  },
  {
   "cell_type": "code",
   "execution_count": null,
   "id": "82969f46",
   "metadata": {},
   "outputs": [],
   "source": [
    "valid_dataframes = []\n",
    "\n",
    "for i,df in enumerate(dataframes):\n",
    "    # Check if the 15th column is named 'Spannung'\n",
    "    if len(df.columns) > 14 and df.columns[15] == 'Spannung':\n",
    "        valid_dataframes.append(df)\n",
    "    else:\n",
    "        print('deleted : ',i)\n",
    "\n",
    "# Update dataframes with valid dataframes\n",
    "dataframes = valid_dataframes\n",
    "\n",
    "noFiles = 0\n",
    "for i, dfarr in enumerate(dataframes):\n",
    "    num_rows, num_columns = dfarr.shape\n",
    "    print(f\"DataFrame {i + 1} - Rows: {num_rows}, Columns: {num_columns}\")\n",
    "    noFiles += 1\n",
    "print(noFiles)"
   ]
  },
  {
   "cell_type": "markdown",
   "id": "098649cc",
   "metadata": {},
   "source": [
    "### Crop The Values"
   ]
  },
  {
   "cell_type": "markdown",
   "id": "ea765d20",
   "metadata": {},
   "source": [
    "\n",
    "This script iterates through a list of dataframes and performs the following operations:\n",
    "\n",
    "1. Seprate the data farame of each cycle or `Zyklus`.\n",
    "2. Extracts a subset of the filtered dataframe from `3.65-3.85`.\n",
    "3. Filters the subset based on the `Spannung` column values.\n",
    "4. Calculates the maximum and minimum values of `AhAkku` column in the filtered dataframe.\n",
    "5. Interpolates 50 values for `AhAkku` column.\n",
    "6. Writes the interpolated values along with the difference between maximum and minimum `AhAkku` values to a CSV file.\n",
    "\n",
    "CSV File Format:\n",
    "- Each row corresponds to a set of interpolated values along with the difference between max and min AhAkku values.\n",
    "- The columns represent the interpolated values (Interpolated_1 to 'Interpolated_50') followed by `Max_Min_Ahakku_Difference`.\n",
    "\n",
    "Note: Ensure that the 'dataframes' variable is a list containing pandas DataFrames.\n",
    "\n",
    "    "
   ]
  },
  {
   "cell_type": "code",
   "execution_count": 30,
   "id": "e58bc489",
   "metadata": {},
   "outputs": [],
   "source": [
    "with open('output.csv', 'w', newline='') as csvfile:\n",
    "    writer = csv.writer(csvfile)\n",
    "    # writer.writerow(['Interpolated_1', 'Interpolated_2', ..., 'Interpolated_50', 'Max_Min_Ahakku_Difference'])\n",
    "\n",
    "    I = 0\n",
    "    for i, df in enumerate(dataframes):\n",
    "        for zyclus_no in range(1, df['Zyklus'].max() + 1):\n",
    "            filtered_df = df[(df['Zyklus'] == zyclus_no)]\n",
    "            quarter_len = len(filtered_df) // 4\n",
    "            filtered_df = filtered_df.iloc[quarter_len:]\n",
    "\n",
    "            filtered_df_ahakku = filtered_df[(filtered_df['Spannung'] >= 3.65) & (filtered_df['Spannung'] <= 3.85)]\n",
    "            max_ahakku = filtered_df['AhAkku'].max()\n",
    "            min_ahakku = filtered_df['AhAkku'].min()\n",
    "\n",
    "            ahakku_values = filtered_df_ahakku['AhAkku'].values\n",
    "            if len(ahakku_values) > 0:\n",
    "                # Interpolate 50 values\n",
    "                interpolated_values = np.interp(np.linspace(0, len(ahakku_values) - 1, 50), np.arange(len(ahakku_values)), ahakku_values)\n",
    "\n",
    "                # Write interpolated values along with max_ahakku - min_ahakku to the CSV file\n",
    "                writer.writerow(list(interpolated_values) + [max_ahakku - min_ahakku])\n",
    "\n",
    "        I += 1"
   ]
  },
  {
   "cell_type": "code",
   "execution_count": null,
   "id": "7ca291c6",
   "metadata": {},
   "outputs": [],
   "source": []
  }
 ],
 "metadata": {
  "kernelspec": {
   "display_name": "Python 3 (ipykernel)",
   "language": "python",
   "name": "python3"
  },
  "language_info": {
   "codemirror_mode": {
    "name": "ipython",
    "version": 3
   },
   "file_extension": ".py",
   "mimetype": "text/x-python",
   "name": "python",
   "nbconvert_exporter": "python",
   "pygments_lexer": "ipython3",
   "version": "3.12.1"
  }
 },
 "nbformat": 4,
 "nbformat_minor": 5
}
