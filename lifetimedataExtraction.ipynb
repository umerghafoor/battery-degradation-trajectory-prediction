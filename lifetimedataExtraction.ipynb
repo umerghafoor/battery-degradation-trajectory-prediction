{
 "cells": [
  {
   "cell_type": "code",
   "execution_count": 154,
   "id": "865fa9a3-7cda-4cf0-a15e-a95973331a3c",
   "metadata": {},
   "outputs": [],
   "source": [
    "import pandas as pd\n",
    "import matplotlib.pyplot as plt\n",
    "from datetime import datetime\n",
    "import numpy as np"
   ]
  },
  {
   "cell_type": "markdown",
   "id": "c011e335",
   "metadata": {},
   "source": [
    "## Plot Function\n",
    "The code defines a function called `plot` that takes two parameters: `columns_to_plot` and `df`.\n",
    "it plot all the selected columns in the data frame"
   ]
  },
  {
   "cell_type": "code",
   "execution_count": 155,
   "id": "1ec09e29-15f9-4b3b-addc-07d50908e500",
   "metadata": {},
   "outputs": [],
   "source": [
    "def plot(columns_to_plot, df):\n",
    "    \"\"\"\n",
    "    The function `plot` takes a list of column indices and a DataFrame as input, and plots the specified\n",
    "    columns over time.\n",
    "    \n",
    "    :param columns_to_plot: The `columns_to_plot` parameter is a list of column indices that you want to\n",
    "    plot from the DataFrame `df`. Each element in the list represents the index of the column you want\n",
    "    to plot\n",
    "    :param df: The parameter `df` is a pandas DataFrame that contains the data you want to plot. It\n",
    "    should have a column named \"Zeit\" that represents the time values, and other columns that you want\n",
    "    to plot\n",
    "    \"\"\"\n",
    "    plt.figure(figsize=(10, 6))  # Adjust the figure size as needed\n",
    "\n",
    "    for col_idx in columns_to_plot:\n",
    "        col_name = df.columns[col_idx]\n",
    "        plt.plot(df[\"Zeit\"], df.iloc[:, col_idx], label=f\"Column {col_name}\")\n",
    "\n",
    "    plt.xlabel(\"Time\")\n",
    "    plt.ylabel(\"Value\")\n",
    "    plt.title(\"Columns Over Time\")\n",
    "    plt.grid(True)\n",
    "    plt.legend()\n",
    "    plt.xticks(rotation=90)  # Rotate x-axis labels for better readability\n",
    "    #plt.xticks([])  # Hide x-axis tick labels\n",
    "    #plt.yticks([])  # Hide y-axis tick labels\n",
    "    plt.tight_layout()\n",
    "    plt.show()"
   ]
  },
  {
   "cell_type": "markdown",
   "id": "46daf8e9",
   "metadata": {},
   "source": [
    "The `plot_threshold` function is a custom function that plots the values of specified columns in a DataFrame over a specified time range."
   ]
  },
  {
   "cell_type": "code",
   "execution_count": 156,
   "id": "0a4c4838",
   "metadata": {},
   "outputs": [],
   "source": [
    "def plot_threshold(columns_to_plot, df, start_time, end_time):\n",
    "    \"\"\"\n",
    "    The function `plot_threshold` plots specified columns of a DataFrame within a specified time range.\n",
    "    \n",
    "    :param columns_to_plot: The `columns_to_plot` parameter is a list of column indices that you want to\n",
    "    plot from the DataFrame `df`. Each index corresponds to a specific column in the DataFrame\n",
    "    :param df: The dataframe containing the data to plot\n",
    "    :param start_time: The start time is the beginning of the time range you want to plot. It should be\n",
    "    in the same format as the \"Zeit\" column in your dataframe\n",
    "    :param end_time: The `end_time` parameter specifies the end time of the time range for which you\n",
    "    want to plot the data\n",
    "    \"\"\"\n",
    "    plt.figure(figsize=(10, 6))  # Adjust the figure size as needed\n",
    "\n",
    "    # Filter data within the specified time range\n",
    "    mask = (df[\"Zeit\"] >= start_time) & (df[\"Zeit\"] <= end_time)\n",
    "    df_filtered = df[mask]\n",
    "\n",
    "    for col_idx in columns_to_plot:\n",
    "        col_name = df.columns[col_idx]\n",
    "        plt.plot(df_filtered[\"Zeit\"], df_filtered.iloc[:, col_idx], label=f\"Column {col_name}\")\n",
    "\n",
    "    plt.xlabel(\"Time\")\n",
    "    plt.ylabel(\"Value\")\n",
    "    plt.title(\"Columns Over Time\")\n",
    "    plt.grid(True)\n",
    "    plt.legend()\n",
    "    plt.xticks(rotation=90)  # Rotate x-axis labels for better readability\n",
    "    #plt.xticks([])  # Hide x-axis tick labels\n",
    "    #plt.yticks([])  # Hide y-axis tick labels\n",
    "    plt.tight_layout()\n",
    "    plt.show()\n"
   ]
  },
  {
   "cell_type": "code",
   "execution_count": 157,
   "metadata": {},
   "outputs": [],
   "source": [
    "def plot_threshold_same_plot(columns_to_plot, df, start_time, end_time, existing_plt=None, y_min=None, y_max=None,i=0):\n",
    "    \"\"\"\n",
    "    The function `plot_threshold` plots specified columns of a DataFrame within a specified time range.\n",
    "\n",
    "    :param columns_to_plot: The `columns_to_plot` parameter is a list of column indices that you want to\n",
    "    plot from the DataFrame `df`. Each index corresponds to a specific column in the DataFrame.\n",
    "    :param df: The dataframe containing the data to plot.\n",
    "    :param start_time: The start time is the beginning of the time range you want to plot. It should be\n",
    "    in the same format as the \"Zeit\" column in your dataframe.\n",
    "    :param end_time: The `end_time` parameter specifies the end time of the time range for which you\n",
    "    want to plot the data.\n",
    "    :param existing_plt: (Optional) The existing Matplotlib plt object where you want to plot the data.\n",
    "    If None, a new figure and axes will be created.\n",
    "    :param y_min: (Optional) The minimum value for the y-axis.\n",
    "    :param y_max: (Optional) The maximum value for the y-axis.\n",
    "    \"\"\"\n",
    "    if existing_plt is None:\n",
    "        plt.figure(figsize=(10, 6))  # Adjust the figure size as needed\n",
    "\n",
    "    colors = [\n",
    "    (0.8, 0.8, 1.0),\n",
    "    (0.76, 0.76, 0.95),\n",
    "    (0.72, 0.72, 0.9),\n",
    "    (0.68, 0.68, 0.85),\n",
    "    (0.64, 0.64, 0.8),\n",
    "    (0.6, 0.6, 0.75),\n",
    "    (0.56, 0.56, 0.7),\n",
    "    (0.52, 0.52, 0.65),\n",
    "    (0.48, 0.48, 0.6),\n",
    "    (0.44, 0.44, 0.55),\n",
    "    (0.4, 0.4, 0.5),\n",
    "    (0.36, 0.36, 0.45),\n",
    "    (0.32, 0.32, 0.4),\n",
    "    (0.28, 0.28, 0.35),\n",
    "    (0.24, 0.24, 0.3),\n",
    "    (0.2, 0.2, 0.25),\n",
    "    (0.16, 0.16, 0.2),\n",
    "    (0.12, 0.12, 0.15),\n",
    "    (0.08, 0.08, 0.1),\n",
    "    (0.04, 0.04, 0.05)\n",
    "    ]\n",
    "\n",
    "    # Filter data within the specified time range\n",
    "    mask = (df[\"Zeit\"] >= start_time) & (df[\"Zeit\"] <= end_time)\n",
    "    df_filtered = df[mask]\n",
    "    df_filtered.loc[:, \"Zeit\"] -= start_time\n",
    "\n",
    "    for idx, col_idx in enumerate(columns_to_plot):\n",
    "        col_name = df.columns[col_idx]\n",
    "        line_color = colors[i%20]  # Cycle through 15 different shades of blue\n",
    "        if existing_plt is not None:\n",
    "            existing_plt.plot(df_filtered[\"Zeit\"], df_filtered.iloc[:, col_idx], label=f\"Column {col_name}\", color=line_color)\n",
    "        else:\n",
    "            plt.plot(df_filtered[\"Zeit\"], df_filtered.iloc[:, col_idx], label=f\"Column {col_name}\", color=line_color)\n",
    "\n",
    "    if y_min is not None and y_max is not None:\n",
    "        if existing_plt is not None:\n",
    "            existing_plt.ylim(y_min, y_max)\n",
    "        else:\n",
    "            plt.ylim(y_min, y_max)\n",
    "\n",
    "    if existing_plt is None:\n",
    "        plt.xlabel(\"Time\")\n",
    "        plt.ylabel(\"Value\")\n",
    "        plt.title(\"Columns Over Time\")\n",
    "        plt.grid(True)\n",
    "        plt.legend()\n",
    "        plt.xticks(rotation=90)  # Rotate x-axis labels for better readability\n",
    "        plt.tight_layout()\n"
   ]
  },
  {
   "cell_type": "code",
   "execution_count": 158,
   "metadata": {},
   "outputs": [],
   "source": [
    "def print_times_near_threshold(columns_to_plot, df, start_time, end_time, threshold=3.6, tolerance=0.01):\n",
    "    \"\"\"\n",
    "    The function `print_times_near_threshold` prints the times when the value of the y-axis is within a tolerance\n",
    "    range of the specified threshold.\n",
    "\n",
    "    :param columns_to_plot: The `columns_to_plot` parameter is a list of column indices that you want to\n",
    "    print times for from the DataFrame `df`. Each index corresponds to a specific column in the DataFrame.\n",
    "    :param df: The dataframe containing the data to check for values near the threshold.\n",
    "    :param start_time: The start time is the beginning of the time range you want to check. It should be\n",
    "    in the same format as the \"Zeit\" column in your dataframe.\n",
    "    :param end_time: The `end_time` parameter specifies the end time of the time range for which you\n",
    "    want to check the data.\n",
    "    :param threshold: The threshold value to compare against on the y-axis.\n",
    "    :param tolerance: The tolerance range within which values are considered \"near\" the threshold.\n",
    "    \"\"\"\n",
    "    mask = (df[\"Zeit\"] >= start_time) & (df[\"Zeit\"] <= end_time)\n",
    "    df_filtered = df[mask]\n",
    "\n",
    "    for col_idx in columns_to_plot:\n",
    "        col_name = df.columns[col_idx]\n",
    "        in_tolerance_range = False  # Flag to track if we're in the tolerance range\n",
    "\n",
    "        # Iterate through the rows to find times when the value is within the tolerance range\n",
    "        for index, row in df_filtered.iterrows():\n",
    "            value = row.iloc[col_idx]\n",
    "            if abs(value - threshold) <= tolerance:\n",
    "                if not in_tolerance_range:\n",
    "                    print(f\"{col_name} , {threshold} t = {row['Zeit']}\")\n",
    "                    in_tolerance_range = True\n",
    "            else:\n",
    "                in_tolerance_range = False\n"
   ]
  },
  {
   "cell_type": "markdown",
   "id": "7bb3a686",
   "metadata": {},
   "source": [
    "## Plot All Function\n",
    "The code defines a function called `plotAll` that takes a data frame as input & Plot all the parameter along the time axis."
   ]
  },
  {
   "cell_type": "code",
   "execution_count": 159,
   "id": "469a9ef4-9baf-453e-b1e9-9ff6d2744378",
   "metadata": {},
   "outputs": [],
   "source": [
    "def plotAll(data_frame):\n",
    "    \"\"\"\n",
    "    The function `plotAll` takes a data frame as input and plots each column against time in a grid\n",
    "    layout.\n",
    "    \n",
    "    :param data_frame: The parameter `data_frame` is expected to be a pandas DataFrame object. It should\n",
    "    contain the data that you want to plot. Each column of the DataFrame represents a different variable\n",
    "    or feature that you want to plot over time. The DataFrame should have a column named \"Zeit\" which\n",
    "    represents the time\n",
    "    \"\"\"\n",
    "    num_columns = len(data_frame.columns)\n",
    "    num_rows = (num_columns + 2) // 3  # Create a grid with 3 columns\n",
    "\n",
    "    plt.figure(figsize=(15, 5 * num_rows))  # Adjust the figure size as needed\n",
    "\n",
    "    for i, col in enumerate(data_frame.columns):\n",
    "        plt.subplot(num_rows, 3, i + 1)  # Create a subplot\n",
    "        plt.plot(data_frame[\"Zeit\"], data_frame[col])\n",
    "        plt.xlabel(\"Time\")  # Set x-axis label to empty string to hide it\n",
    "        plt.ylabel(col)\n",
    "        plt.title(f\"{col} Over Time\")\n",
    "        plt.grid(True)\n",
    "        plt.xticks([])  # Hide x-axis tick labels\n",
    "        plt.yticks([])  # Hide y-axis tick labels\n",
    "\n",
    "    plt.tight_layout()\n",
    "    plt.show()"
   ]
  },
  {
   "cell_type": "markdown",
   "id": "7f41ad33",
   "metadata": {},
   "source": [
    "The code defines a function called `convert_to_linear_time` that takes a string representing a date and time as input & convert it into linear Time."
   ]
  },
  {
   "cell_type": "code",
   "execution_count": 160,
   "id": "f300afb9",
   "metadata": {},
   "outputs": [],
   "source": [
    "def convert_to_linear_time(date_time_str):\n",
    "    input_format = \"%Y-%m-%d %H:%M:%S.%f\"\n",
    "    dt_object = datetime.strptime(date_time_str, input_format)\n",
    "    linear_time = dt_object.timestamp()\n",
    "    \n",
    "    return linear_time"
   ]
  },
  {
   "cell_type": "markdown",
   "id": "b196c8ef",
   "metadata": {},
   "source": [
    "The code defines a function called `max_threshold` that takes four parameters: `columns_for_max`, `df`, `start_time`, and `end_time`.\n",
    "The function `max_threshold` takes a list of column indices, a DataFrame, a start time, and an end time, and returns the maximum values for the specified columns within the specified time range.\n",
    "- A list of `column` indices for which you want to find the maximum or minimun values in the dataframe\n",
    "- The parameter `df` is a pandas DataFrame that contains the data you want to analyze. It is assumed that the DataFrame has a column named \"Zeit\" that represents the time values\n",
    "- The `start time` is the lower bound of the time range you want to filter the dataframe on. It represents the earliest time you want to include in the analysis\n",
    "- The `end_time` parameter is the maximum time value for which you want to filter the\n",
    "    data\n",
    "- `return` a list of maximum values for the specified columns in the given dataframe within the\n",
    "    specified time range."
   ]
  },
  {
   "cell_type": "code",
   "execution_count": 161,
   "id": "53e0531e",
   "metadata": {},
   "outputs": [],
   "source": [
    "def max_threshold(columns, df, start_time, end_time):\n",
    "    mask = (df[\"Zeit\"] >= start_time) & (df[\"Zeit\"] <= end_time)\n",
    "    df_filtered = df[mask]\n",
    "\n",
    "    max_values = []\n",
    "\n",
    "    for col_idx in columns:\n",
    "        col_name = df.columns[col_idx]\n",
    "        max_value = df_filtered[col_name].max()\n",
    "        max_values.append(max_value)\n",
    "\n",
    "    return max_values"
   ]
  },
  {
   "cell_type": "code",
   "execution_count": 162,
   "id": "c7d7b9a0",
   "metadata": {},
   "outputs": [],
   "source": [
    "def min_threshold(columns, df, start_time, end_time):\n",
    "    mask = (df[\"Zeit\"] >= start_time) & (df[\"Zeit\"] <= end_time)\n",
    "    df_filtered = df[mask]\n",
    "\n",
    "    min_values = []\n",
    "\n",
    "    for col_idx in columns:\n",
    "        col_name = df.columns[col_idx]\n",
    "        min_value = df_filtered[col_name].min()\n",
    "        min_values.append(min_value)\n",
    "\n",
    "    return min_values"
   ]
  },
  {
   "cell_type": "code",
   "execution_count": 163,
   "metadata": {},
   "outputs": [],
   "source": [
    "def crop_values(columns, df, start_time, end_time, startvalue, endvalue):\n",
    "    # Create a mask for the specified time range\n",
    "    time_mask = (df[\"Zeit\"] >= start_time) & (df[\"Zeit\"] <= end_time)\n",
    "\n",
    "    # Apply the time mask to the DataFrame\n",
    "    df_filtered = df[time_mask]\n",
    "\n",
    "    # Iterate over the specified columns and crop values\n",
    "    for col_idx in columns:\n",
    "        col_name = df.columns[col_idx]\n",
    "\n",
    "        # Crop values within the specified range\n",
    "        df_filtered.loc[df_filtered[col_name] < startvalue, col_name] = startvalue\n",
    "        df_filtered.loc[df_filtered[col_name] > endvalue, col_name] = endvalue\n",
    "\n",
    "    return df_filtered"
   ]
  },
  {
   "cell_type": "markdown",
   "id": "d1c37386",
   "metadata": {},
   "source": [
    "## load CSV File & Refinement\n",
    "The code is reading a CSV file named \"file.csv\" using the pandas library. It skips the first row of the CSV file, assuming it contains headers. The resulting data is stored in a pandas DataFrame called `df`."
   ]
  },
  {
   "cell_type": "code",
   "execution_count": null,
   "id": "e48ca595-e29f-48bf-992c-036a227b8cb0",
   "metadata": {},
   "outputs": [],
   "source": [
    "csv_file = \"zyk.csv\"\n",
    "df = pd.read_csv(csv_file, skiprows=[1])  # Skip the second row with headers\n",
    "\n",
    "#print( df.head())\n",
    "\n",
    "num_rows, num_columns = df.shape\n",
    "\n",
    "print(f\"Number of rows (length): {num_rows}\")\n",
    "print(f\"Number of columns (width): {num_columns}\")"
   ]
  },
  {
   "cell_type": "markdown",
   "id": "502ea278",
   "metadata": {},
   "source": [
    "The code is performing a series of operations on the 'Zeit' column of a DataFrame called 'df'."
   ]
  },
  {
   "cell_type": "code",
   "execution_count": null,
   "id": "610bd306",
   "metadata": {},
   "outputs": [],
   "source": [
    "df['Zeit'] = df['Zeit'].apply(convert_to_linear_time)\n",
    "df['Zeit'] = df['Zeit'] - df['Zeit'].iloc[0]\n",
    "df['Zeit'] = df['Zeit'] / 3600"
   ]
  },
  {
   "cell_type": "markdown",
   "id": "1c184f56",
   "metadata": {},
   "source": [
    "The code is retrieving the first and last entry times from a DataFrame column named `Zeit`."
   ]
  },
  {
   "cell_type": "code",
   "execution_count": null,
   "id": "4f9aa0fa",
   "metadata": {},
   "outputs": [],
   "source": [
    "first_entry_time = df['Zeit'].iloc[0]\n",
    "last_entry_time = df['Zeit'].iloc[-1]\n",
    "print(f\"Time of First Entry: {first_entry_time} seconds\")\n",
    "print(f\"Time of Last Entry: {last_entry_time} seconds\")"
   ]
  },
  {
   "cell_type": "markdown",
   "id": "3e91ed4a",
   "metadata": {},
   "source": [
    "## Ploting Code\n",
    "The code is creating a list called `columns_to_plot` which contains the column numbers of the columns you want to plot. It then calls a function called `plot` passing in the `columns_to_plot` list and the `df` dataframe as arguments. The purpose of this code is to plot the specified columns from the dataframe."
   ]
  },
  {
   "cell_type": "code",
   "execution_count": null,
   "id": "ce5c9593-1038-48e1-a320-ddd563794b17",
   "metadata": {},
   "outputs": [],
   "source": [
    "columns_to_plot = [16,15,9]  # Replace with the actual column names you want to plot\n",
    "plot(columns_to_plot,df)"
   ]
  },
  {
   "cell_type": "code",
   "execution_count": null,
   "id": "e2cb11c2",
   "metadata": {},
   "outputs": [],
   "source": [
    "columns_to_plot = [16,15,9]  # Replace with the actual column names you want to plot\n",
    "plot_threshold(columns_to_plot, df, 10, 20)"
   ]
  },
  {
   "cell_type": "code",
   "execution_count": null,
   "id": "831677f3",
   "metadata": {},
   "outputs": [],
   "source": [
    "columns_to_plot = [16,15,9]  # Replace with the actual column names you want to plot\n",
    "max_values = max_threshold(columns_to_plot, df, 12, 16)\n",
    "min_values =min_threshold(columns_to_plot, df, 12, 16)\n",
    "print(\"max_values = \",max_values)\n",
    "print(\"min_values = \",min_values)"
   ]
  },
  {
   "cell_type": "code",
   "execution_count": null,
   "id": "116bbc5b-875b-483d-881e-01935bb283e2",
   "metadata": {},
   "outputs": [],
   "source": [
    "plotAll(df)"
   ]
  },
  {
   "cell_type": "markdown",
   "id": "c029ed9b",
   "metadata": {},
   "source": [
    "### Plot Ahaku\n",
    "this will plot data of ahakku "
   ]
  },
  {
   "cell_type": "code",
   "execution_count": null,
   "id": "cd4a89a1-b797-46a9-9b58-4f818896b7f3",
   "metadata": {},
   "outputs": [],
   "source": [
    "columns_to_plot = [9]  # Replace with the actual column no. you want to plot\n",
    "plot(columns_to_plot,df)"
   ]
  },
  {
   "cell_type": "markdown",
   "id": "e0839c57",
   "metadata": {},
   "source": [
    "## Folder Data loading\n",
    "The code is loading multiple CSV files from a specified folder path and converting them into pandas DataFrames."
   ]
  },
  {
   "cell_type": "code",
   "execution_count": 164,
   "metadata": {},
   "outputs": [],
   "source": [
    "import os\n",
    "import glob\n",
    "import pandas as pd"
   ]
  },
  {
   "cell_type": "code",
   "execution_count": 165,
   "id": "d9dbaa46",
   "metadata": {},
   "outputs": [
    {
     "name": "stdout",
     "output_type": "stream",
     "text": [
      "DataFrame 1 - Rows: 89410, Columns: 18\n",
      "DataFrame 2 - Rows: 24697, Columns: 18\n",
      "DataFrame 3 - Rows: 73298, Columns: 18\n",
      "DataFrame 4 - Rows: 88666, Columns: 18\n",
      "DataFrame 5 - Rows: 24345, Columns: 18\n",
      "DataFrame 6 - Rows: 88428, Columns: 18\n",
      "DataFrame 7 - Rows: 24937, Columns: 18\n",
      "DataFrame 8 - Rows: 88300, Columns: 18\n",
      "DataFrame 9 - Rows: 24891, Columns: 18\n",
      "DataFrame 10 - Rows: 88156, Columns: 18\n",
      "DataFrame 11 - Rows: 25275, Columns: 18\n",
      "DataFrame 12 - Rows: 24968, Columns: 18\n",
      "DataFrame 13 - Rows: 82806, Columns: 18\n",
      "DataFrame 14 - Rows: 25748, Columns: 18\n",
      "DataFrame 15 - Rows: 88059, Columns: 18\n",
      "DataFrame 16 - Rows: 28881, Columns: 18\n",
      "DataFrame 17 - Rows: 88009, Columns: 18\n",
      "DataFrame 18 - Rows: 27547, Columns: 18\n",
      "DataFrame 19 - Rows: 87786, Columns: 18\n",
      "DataFrame 20 - Rows: 28306, Columns: 18\n",
      "DataFrame 21 - Rows: 87437, Columns: 18\n",
      "DataFrame 22 - Rows: 28828, Columns: 18\n",
      "DataFrame 23 - Rows: 86887, Columns: 18\n",
      "DataFrame 24 - Rows: 28577, Columns: 18\n",
      "DataFrame 25 - Rows: 85831, Columns: 18\n",
      "DataFrame 26 - Rows: 42219, Columns: 18\n",
      "DataFrame 27 - Rows: 84802, Columns: 18\n",
      "DataFrame 28 - Rows: 41616, Columns: 18\n",
      "DataFrame 29 - Rows: 83475, Columns: 18\n",
      "DataFrame 30 - Rows: 29388, Columns: 18\n",
      "DataFrame 31 - Rows: 82491, Columns: 18\n",
      "DataFrame 32 - Rows: 28592, Columns: 18\n",
      "DataFrame 33 - Rows: 38664, Columns: 18\n",
      "DataFrame 34 - Rows: 28947, Columns: 18\n",
      "DataFrame 35 - Rows: 667, Columns: 18\n",
      "35\n"
     ]
    }
   ],
   "source": [
    "folder_path = \"data\"\n",
    "\n",
    "csv_files = glob.glob(os.path.join(folder_path, \"*.csv\"))\n",
    "\n",
    "dataframes = []\n",
    "\n",
    "# Loop through the CSV files and load them into DataFrames\n",
    "for csv_file in csv_files:\n",
    "    dfarr = pd.read_csv(csv_file, skiprows=[1])\n",
    "    dfarr['Zeit'] = dfarr['Zeit'].apply(convert_to_linear_time)\n",
    "    dfarr['Zeit'] = dfarr['Zeit'] - dfarr['Zeit'].iloc[0]\n",
    "    dfarr['Zeit'] = dfarr['Zeit'] / 3600\n",
    "    dataframes.append(dfarr)\n",
    "\n",
    "noFiles = 0\n",
    "for i, dfarr in enumerate(dataframes):\n",
    "    num_rows, num_columns = dfarr.shape\n",
    "    print(f\"DataFrame {i + 1} - Rows: {num_rows}, Columns: {num_columns}\")\n",
    "    noFiles = noFiles + 1\n",
    "print(noFiles)"
   ]
  },
  {
   "cell_type": "markdown",
   "id": "6afb0987",
   "metadata": {},
   "source": [
    "test that data is loaded succesfully"
   ]
  },
  {
   "cell_type": "code",
   "execution_count": null,
   "id": "6de4da17",
   "metadata": {},
   "outputs": [],
   "source": [
    "num_rows, num_columns = dataframes[1].shape\n",
    "\n",
    "print(f\"Number of rows (length): {num_rows}\")\n",
    "print(f\"Number of columns (width): {num_columns}\")\n",
    "#print(f\"Type: {dataframes}\")"
   ]
  },
  {
   "cell_type": "markdown",
   "id": "ed8560dd",
   "metadata": {},
   "source": [
    "## Plot All Dates\n",
    "function to take an array of DataFrames and plot the specified columns from each DataFrame in a single plot"
   ]
  },
  {
   "cell_type": "code",
   "execution_count": null,
   "id": "a2b50d99",
   "metadata": {},
   "outputs": [],
   "source": [
    "def plotAllDates( columns_to_plot,dataframes):\n",
    "    for df in dataframes:\n",
    "        for col_idx in columns_to_plot:\n",
    "            col_name = df.columns[col_idx]\n",
    "            plt.figure(figsize=(10, 6))  # Adjust the figure size as needed\n",
    "            plt.plot(df[\"Zeit\"], df.iloc[:, col_idx])\n",
    "            plt.xlabel(\"Time\")\n",
    "            plt.ylabel(col_name)\n",
    "            plt.title(f\"Column {col_name} Over Time\")\n",
    "            plt.grid(True)\n",
    "            #plt.xticks(rotation=90)  # Rotate x-axis labels for better readability\n",
    "            plt.xticks([])  # Hide x-axis tick labels\n",
    "            #plt.yticks([])  # Hide y-axis tick labels\n",
    "            plt.tight_layout()\n",
    "            plt.show()"
   ]
  },
  {
   "cell_type": "markdown",
   "id": "0e8fbaac",
   "metadata": {},
   "source": [
    "### Plot all data from folder\n",
    "The code snippet is defining a list `columns_to_plot` which contains the column numbers (indices) of the columns to be plotted. It then iterates over a list of dataframes (`dataframes`) and for each dataframe, it prints the graph number, calls a function `plot_threshold` passing the `columns_to_plot`, the current dataframe, and two threshold values start and end time as arguments. The variable `I` is used as a counter to keep track of the graph number."
   ]
  },
  {
   "cell_type": "code",
   "execution_count": null,
   "id": "e489e98a",
   "metadata": {},
   "outputs": [],
   "source": [
    "columns_to_plot = [15] \n",
    "#plotAllDates(dataframes[0],columns_to_plot)\n",
    "I = 0\n",
    "for i in dataframes:\n",
    "    print(\"Graph No. :\",I)\n",
    "    #plot(columns_to_plot,dataframes[I])\n",
    "    plot_threshold(columns_to_plot, dataframes[I], 10, 25)\n",
    "    I=I+1"
   ]
  },
  {
   "cell_type": "markdown",
   "id": "fee39f9b",
   "metadata": {},
   "source": [
    "# 1 Capacity Analysis\n",
    "### Max Min Value extration\n",
    "this code is extracting the `maximun` and `minimum` value between the start and end time for all files in folder.It also captures the capacity using `capacity = max - min` and store the data in the array.  "
   ]
  },
  {
   "cell_type": "code",
   "execution_count": 166,
   "id": "d1fd57ce",
   "metadata": {},
   "outputs": [
    {
     "name": "stdout",
     "output_type": "stream",
     "text": [
      "[[0.9683542172942908], [2.512948733623489], [0.9527841760218508], [0.9379599587318808], [2.506704811101372], [0.901127865548915], [2.543738248838054], [0.8680787136136132], [2.538791181188572], [0.8457013399311109], [2.538695086757798], [3.259110481674725], [0.815837157992064], [2.546989368292998], [30.5], [2.718868245512567], [0.7114235212420681], [2.549460202593764], [0.63090901835767], [2.618374756268167], [0.5543623494704661], [2.650589085063984], [0.4703467295375958], [2.467536640364415], [0.3790578488665233], [2.479579816266778], [0.3316027143587235], [2.501187635407405], [0.2893884973977947], [2.453454201666318], [0.2699685657089503], [2.382412096023472], [0.2464290570976573], [2.470213039210648], [nan]]\n",
      "[[-0.1521196222574872], [0.698714602887776], [-0.1030657887192774], [-0.108770648796849], [0.7646620331606755], [-0.0955465925229646], [0.7856070096895564], [-0.1021016168425604], [0.8125349584051946], [-0.0900104539817903], [0.8460636535046433], [1.562708852767173], [-0.0897345854302784], [0.9101984712424382], [27.8125], [1.148079135291482], [-0.07228310031428], [1.141796210853499], [-0.0608398506612388], [1.342393651402745], [-0.0534110607489424], [1.486068386391708], [-0.0445089211644358], [1.527462761572679], [-0.0423607008969497], [1.647023849327525], [-0.0334989365890692], [1.758972768002423], [-0.0246227231478144], [1.767711578047965], [-0.0236824269526891], [1.781450634285648], [-0.0212196026080562], [1.901634442368959], [nan]]\n",
      "[1.120473839551778, 1.8142341307357128, 1.0558499647411281, 1.0467306075287297, 1.7420427779406964, 0.9966744580718796, 1.7581312391484976, 0.9701803304561736, 1.7262562227833773, 0.9357117939129012, 1.6926314332531547, 1.696401628907552, 0.9055717434223425, 1.6367908970505596, 2.6875, 1.5707891102210847, 0.7837066215563481, 1.407663991740265, 0.6917488690189088, 1.275981104865422, 0.6077734102194086, 1.164520698672276, 0.5148556507020317, 0.9400738787917358, 0.421418549763473, 0.8325559669392528, 0.36510165094779273, 0.7422148674049822, 0.3140112205456091, 0.685742623618353, 0.2936509926616394, 0.6009614617378238, 0.2676486597057135, 0.5685785968416888, nan]\n",
      "range(0, 35)\n"
     ]
    }
   ],
   "source": [
    "columns_to_plot = [9]\n",
    "\n",
    "max_values_list = []\n",
    "min_values_list = []\n",
    "capacity_values_list = []\n",
    "iteration_range = range(len(dataframes))\n",
    "\n",
    "for df in dataframes:\n",
    "    max_values = max_threshold(columns_to_plot, df, 11, 21)\n",
    "    min_values = min_threshold(columns_to_plot, df, 11, 21)\n",
    "    \n",
    "    max_values_list .append(max_values)\n",
    "    min_values_list.append(min_values)\n",
    "    capacity = max_values[0]-min_values[0]\n",
    "    capacity_values_list.append(capacity)\n",
    "\n",
    "print(max_values_list)\n",
    "print(min_values_list)\n",
    "print(capacity_values_list)\n",
    "print(iteration_range)"
   ]
  },
  {
   "cell_type": "markdown",
   "id": "f48ad02a",
   "metadata": {},
   "source": [
    "### Extract Requried data\n",
    "The extract contain the array of elements to plot for the calculation of capacity."
   ]
  },
  {
   "cell_type": "code",
   "execution_count": 167,
   "id": "ae3bb60e",
   "metadata": {},
   "outputs": [
    {
     "name": "stdout",
     "output_type": "stream",
     "text": [
      "[1.8142341307357128, 1.7420427779406964, 1.7581312391484976, 1.7262562227833773, 1.6926314332531547, 1.696401628907552, 1.6367908970505596, 1.5707891102210847, 1.407663991740265, 1.275981104865422, 1.164520698672276, 0.9400738787917358, 0.8325559669392528, 0.7422148674049822, 0.685742623618353, 0.6009614617378238, 0.5685785968416888]\n"
     ]
    },
    {
     "data": {
      "text/plain": [
       "range(0, 17)"
      ]
     },
     "execution_count": 167,
     "metadata": {},
     "output_type": "execute_result"
    }
   ],
   "source": [
    "extract = [1,4, 6, 8, 10, 11, 13,15,17,19,21,23,25,27,29,31,33]\n",
    "\n",
    "extracted_capacity_values = [capacity_values_list[i] for i in extract]\n",
    "iteration_range = iteration_range = range(len(extracted_capacity_values))\n",
    "print(extracted_capacity_values)\n",
    "iteration_range"
   ]
  },
  {
   "cell_type": "markdown",
   "id": "303a13e9",
   "metadata": {},
   "source": [
    "### ploting the capacity\n",
    "It plot the capacity over days asuming that the each file in the folder is of one day."
   ]
  },
  {
   "cell_type": "code",
   "execution_count": 168,
   "id": "85c3b6bb",
   "metadata": {},
   "outputs": [
    {
     "data": {
      "image/png": "[encoded data removed]",
      "text/plain": [
       "<Figure size 1000x600 with 1 Axes>"
      ]
     },
     "metadata": {},
     "output_type": "display_data"
    }
   ],
   "source": [
    "plt.figure(figsize=(10, 6))\n",
    "plt.plot(iteration_range, extracted_capacity_values, label='Capacity Values', marker='.')\n",
    "plt.xlabel('Iteration')\n",
    "plt.ylabel('Capacity')\n",
    "plt.legend()\n",
    "plt.title('Capacity Values Over Iterations')\n",
    "plt.grid(True)\n",
    "\n",
    "plt.show()"
   ]
  },
  {
   "cell_type": "markdown",
   "metadata": {},
   "source": [
    "### Save the graph data\n",
    "this code is saving the data of the graphs for later use \n",
    "how to use\n",
    "-  If you are using it first time  clear the data in `extracted_capacity_values.csv`\n",
    "- first get your desired output on the above graph\n",
    "- run this code only once\n",
    "- it will store it in csv that you can later use to display all graphs at one"
   ]
  },
  {
   "cell_type": "code",
   "execution_count": 169,
   "metadata": {},
   "outputs": [
    {
     "name": "stdout",
     "output_type": "stream",
     "text": [
      "Values have been appended to the CSV file 'extracted_capacity_values.csv'\n"
     ]
    }
   ],
   "source": [
    "import csv\n",
    "\n",
    "csv_filename = \"extracted_capacity_values.csv\"\n",
    "\n",
    "with open(csv_filename, 'a', newline='') as csvfile:\n",
    "    values_as_string = \",\".join(map(str, extracted_capacity_values))\n",
    "    csvfile.write(values_as_string + \"\\n\")\n",
    "\n",
    "print(f\"Values have been appended to the CSV file '{csv_filename}'\")"
   ]
  },
  {
   "cell_type": "markdown",
   "metadata": {},
   "source": [
    "### Ploting all Cell Data\n",
    "This will take csv of the above code block and plot all the data that is stored aleady"
   ]
  },
  {
   "cell_type": "code",
   "execution_count": 170,
   "metadata": {},
   "outputs": [
    {
     "data": {
      "image/png": "[encoded data removed]",
      "text/plain": [
       "<Figure size 640x480 with 1 Axes>"
      ]
     },
     "metadata": {},
     "output_type": "display_data"
    }
   ],
   "source": [
    "csv_file = 'extracted_capacity_values.csv'\n",
    "\n",
    "csvdf = pd.read_csv(csv_file, header=None)\n",
    "\n",
    "num_rows, num_columns = csvdf.shape\n",
    "\n",
    "for row in range(num_rows):\n",
    "    plt.plot(csvdf.iloc[row], label=f'Cell {row + 1}')\n",
    "\n",
    "plt.xlabel('X-axis')\n",
    "plt.ylabel('Y-axis')\n",
    "plt.legend()\n",
    "\n",
    "plt.show()"
   ]
  },
  {
   "cell_type": "markdown",
   "metadata": {},
   "source": [
    "# 2 Volatge analysis"
   ]
  },
  {
   "cell_type": "code",
   "execution_count": 171,
   "metadata": {},
   "outputs": [
    {
     "name": "stdout",
     "output_type": "stream",
     "text": [
      "0\n",
      "Spannung , 3.6 t = 16.029666666653423\n",
      "Spannung , 3.6 t = 17.029524999989405\n",
      "Spannung , 3.6 t = 18.030305555529065\n",
      "Spannung , 3.6 t = 19.03193333334393\n",
      "Spannung , 3.6 t = 20.032155555552908\n",
      "Spannung , 3.6 t = 21.032372222211627\n",
      "1\n",
      "Spannung , 3.6 t = 17.18984166668521\n",
      "Spannung , 3.6 t = 20.58439722220103\n",
      "2\n",
      "Spannung , 3.6 t = 16.023238888846503\n",
      "Spannung , 3.6 t = 16.504983333283\n",
      "Spannung , 3.6 t = 17.023727777732745\n",
      "Spannung , 3.6 t = 18.024363888899487\n",
      "Spannung , 3.6 t = 19.0244499999947\n",
      "Spannung , 3.6 t = 20.024375\n",
      "Spannung , 3.6 t = 21.02501666665077\n",
      "3\n",
      "Spannung , 3.6 t = 16.02422222223547\n",
      "Spannung , 3.6 t = 17.02451388888889\n",
      "Spannung , 3.6 t = 18.024827777809566\n",
      "Spannung , 3.6 t = 19.025130555563504\n",
      "Spannung , 3.6 t = 20.02543055554231\n",
      "Spannung , 3.6 t = 20.506944444444443\n",
      "Spannung , 3.6 t = 21.0257361111376\n",
      "4\n",
      "Spannung , 3.6 t = 16.473408333328035\n",
      "Spannung , 3.6 t = 19.790202777783076\n",
      "Spannung , 3.6 t = 21.11533333334658\n",
      "5\n",
      "Spannung , 3.6 t = 16.01971111112171\n",
      "Spannung , 3.6 t = 17.021749999986753\n",
      "Spannung , 3.6 t = 18.02038611114025\n",
      "Spannung , 3.6 t = 18.506313888894187\n",
      "Spannung , 3.6 t = 19.02063055555026\n",
      "Spannung , 3.6 t = 19.50664166669051\n",
      "Spannung , 3.6 t = 20.02111111111111\n",
      "Spannung , 3.6 t = 21.021538888878293\n",
      "Spannung , 3.6 t = 21.507294444441797\n",
      "6\n",
      "Spannung , 3.6 t = 17.5013611111376\n",
      "Spannung , 3.6 t = 21.248766666650774\n",
      "7\n",
      "Spannung , 3.6 t = 16.0182361111376\n",
      "Spannung , 3.6 t = 17.018713888923326\n",
      "Spannung , 3.6 t = 18.018974999984106\n",
      "Spannung , 3.6 t = 19.019308333330684\n",
      "Spannung , 3.6 t = 20.019555555582045\n",
      "Spannung , 3.6 t = 21.02003888891803\n",
      "8\n",
      "Spannung , 3.6 t = 17.051363888912732\n",
      "Spannung , 3.6 t = 17.143016666637525\n",
      "Spannung , 3.6 t = 20.715416666666666\n",
      "Spannung , 3.6 t = 21.953230555521117\n",
      "9\n",
      "Spannung , 3.6 t = 16.017883333365123\n",
      "Spannung , 3.6 t = 17.016372222238118\n",
      "Spannung , 3.6 t = 18.01839444445239\n",
      "Spannung , 3.6 t = 19.018600000010597\n",
      "Spannung , 3.6 t = 20.018875000013246\n",
      "Spannung , 3.6 t = 21.019713888896835\n",
      "10\n",
      "Spannung , 3.6 t = 17.381922222243414\n",
      "Spannung , 3.6 t = 20.925750000013245\n",
      "11\n",
      "Spannung , 3.6 t = 16.90136388891273\n",
      "Spannung , 3.6 t = 20.593194444444446\n",
      "Spannung , 3.6 t = 21.816733333335982\n",
      "12\n",
      "Spannung , 3.6 t = 16.015652777817515\n",
      "Spannung , 3.6 t = 17.015827777783077\n",
      "Spannung , 3.6 t = 17.50587777780162\n",
      "Spannung , 3.6 t = 18.016005555589995\n",
      "Spannung , 3.6 t = 19.01638611111376\n",
      "Spannung , 3.6 t = 20.01657500002119\n",
      "Spannung , 3.6 t = 21.01693333334393\n",
      "13\n",
      "Spannung , 3.6 t = 17.317997222211627\n",
      "Spannung , 3.6 t = 20.88759722226196\n",
      "14\n",
      "15\n",
      "Spannung , 3.6 t = 18.7400555555688\n",
      "Spannung , 3.6 t = 21.77078888886505\n",
      "16\n",
      "Spannung , 3.6 t = 16.01189722220103\n",
      "Spannung , 3.6 t = 17.01205833329095\n",
      "Spannung , 3.6 t = 18.012649999989403\n",
      "Spannung , 3.6 t = 18.506205555531714\n",
      "Spannung , 3.6 t = 19.01203611108992\n",
      "Spannung , 3.6 t = 20.01330277774069\n",
      "Spannung , 3.6 t = 21.013466666605737\n",
      "17\n",
      "Spannung , 3.6 t = 17.215044444402057\n",
      "Spannung , 3.6 t = 20.07909999999735\n",
      "18\n",
      "Spannung , 3.6 t = 16.009058333304193\n",
      "Spannung , 3.6 t = 17.009197222193084\n",
      "Spannung , 3.6 t = 18.009661111103163\n",
      "Spannung , 3.6 t = 19.009872222211627\n",
      "Spannung , 3.6 t = 20.010338888896836\n",
      "Spannung , 3.6 t = 21.01052499996291\n",
      "19\n",
      "Spannung , 3.6 t = 18.81781388892068\n",
      "Spannung , 3.6 t = 21.57075833333863\n",
      "20\n",
      "Spannung , 3.6 t = 16.007763888835907\n",
      "Spannung , 3.6 t = 17.008072222206327\n",
      "Spannung , 3.6 t = 18.008366666634878\n",
      "Spannung , 3.6 t = 19.00875\n",
      "Spannung , 3.6 t = 20.00904722220368\n",
      "Spannung , 3.6 t = 21.00928055551317\n",
      "Spannung , 3.6 t = 21.50711111108462\n",
      "21\n",
      "Spannung , 3.6 t = 19.040041666693156\n",
      "Spannung , 3.6 t = 21.69853611111641\n",
      "22\n",
      "Spannung , 3.6 t = 16.006288888851802\n",
      "Spannung , 3.6 t = 17.006638888849153\n",
      "Spannung , 3.6 t = 18.00697499997086\n",
      "Spannung , 3.6 t = 19.007316666642826\n",
      "Spannung , 3.6 t = 20.007566666669316\n",
      "Spannung , 3.6 t = 21.007922222216923\n",
      "23\n",
      "Spannung , 3.6 t = 17.245616666674614\n",
      "Spannung , 3.6 t = 19.765241666701105\n",
      "24\n",
      "Spannung , 3.6 t = 16.005347222222223\n",
      "Spannung , 3.6 t = 17.0055694444312\n",
      "Spannung , 3.6 t = 18.005986111097865\n",
      "Spannung , 3.6 t = 19.006338888870346\n",
      "Spannung , 3.6 t = 20.006558333304195\n",
      "Spannung , 3.6 t = 21.006927777793674\n",
      "25\n",
      "Spannung , 3.6 t = 17.581730555560853\n",
      "Spannung , 3.6 t = 19.64445555554496\n",
      "26\n",
      "Spannung , 3.6 t = 16.005105555521116\n",
      "Spannung , 3.6 t = 17.00542499999205\n",
      "Spannung , 3.6 t = 18.00572499997086\n",
      "Spannung , 3.6 t = 19.006030555499926\n",
      "Spannung , 3.6 t = 19.506172222163944\n",
      "Spannung , 3.6 t = 20.006341666645476\n",
      "Spannung , 3.6 t = 21.006663888891538\n",
      "27\n",
      "Spannung , 3.6 t = 16.89008055554496\n",
      "Spannung , 3.6 t = 18.8569111111429\n",
      "Spannung , 3.6 t = 21.993194444444445\n",
      "28\n",
      "29\n",
      "Spannung , 3.6 t = 16.50394444445769\n",
      "Spannung , 3.6 t = 18.817994444436497\n",
      "Spannung , 3.6 t = 21.904283333354527\n",
      "30\n",
      "31\n",
      "Spannung , 3.6 t = 17.723547222216926\n",
      "Spannung , 3.6 t = 20.79237777776188\n",
      "Spannung , 3.6 t = 20.885394444465636\n",
      "32\n",
      "Spannung , 3.6 t = 16.00491666667991\n",
      "33\n",
      "Spannung , 3.6 t = 16.284516666664018\n",
      "Spannung , 3.6 t = 18.57358888891008\n",
      "Spannung , 3.6 t = 21.731788888904784\n",
      "Spannung , 3.6 t = 21.80212500002649\n",
      "34\n"
     ]
    }
   ],
   "source": [
    "columns_to_check = [15] \n",
    "i=0\n",
    "for df in dataframes:\n",
    "    print(i)\n",
    "    i=i+1\n",
    "    print_times_near_threshold(columns_to_check, df, 16, 22, threshold=3.6)"
   ]
  },
  {
   "cell_type": "markdown",
   "metadata": {},
   "source": [
    "### Ploting Voltage\n",
    "`data_extract` is the array of `(dataframe,starttime)`\n",
    "- `starttime` is  the that you will place manully by using data above code output\n",
    "- try to use first most value of the repected data frame if it is not working use the last one or randomly\n",
    "- you can look above 35 graphs to figure out the proper value of  `starttime`\n",
    "- `dataframe` is the correct that you want to include in the ploting "
   ]
  },
  {
   "cell_type": "code",
   "execution_count": null,
   "metadata": {},
   "outputs": [],
   "source": [
    "columns_to_plot = [15] \n",
    "\n",
    "data_extract = [\n",
    "    (1, 17.18984166668521),\n",
    "    (4, 16.473408333328035),\n",
    "    (6, 17.5013611111376),          \n",
    "    (8, 17.051363888912732),\n",
    "    (10, 17.381922222243414),\n",
    "    (11, 16.90136388891273),\n",
    "    (13, 17.317997222211627),          \n",
    "    (15, 21.77078888886505),\n",
    "    (17, 20.07909999999735),\n",
    "    (19, 21.57075833333863),\n",
    "    (21, 21.69853611111641), \n",
    "    (23, 19.765241666701105),\n",
    "    (25, 19.64445555554496),\n",
    "    (27, 18.8569111111429),\n",
    "    (29, 18.817994444436497),\n",
    "    (31, 17.723547222216926),\n",
    "    (33, 18.57358888891008)\n",
    "]\n",
    "\n",
    "plt1 = plt\n",
    "i=0\n",
    "for dataframe_index, time_start in data_extract:\n",
    "    time_end = time_start + 2\n",
    "    plot_threshold_same_plot(columns_to_plot, dataframes[dataframe_index], time_start, time_end, plt1, y_min=3.65, y_max=3.85,i=i)\n",
    "    i=i+1\n",
    "\n",
    "plt.show()\n"
   ]
  },
  {
   "cell_type": "code",
   "execution_count": null,
   "metadata": {},
   "outputs": [],
   "source": []
  }
 ],
 "metadata": {
  "kernelspec": {
   "display_name": "Python 3 (ipykernel)",
   "language": "python",
   "name": "python3"
  },
  "language_info": {
   "codemirror_mode": {
    "name": "ipython",
    "version": 3
   },
   "file_extension": ".py",
   "mimetype": "text/x-python",
   "name": "python",
   "nbconvert_exporter": "python",
   "pygments_lexer": "ipython3",
   "version": "3.11.5"
  }
 },
 "nbformat": 4,
 "nbformat_minor": 5
}
