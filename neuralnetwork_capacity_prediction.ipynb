{
 "cells": [
  {
   "cell_type": "code",
   "execution_count": 1,
   "id": "28b60f9d",
   "metadata": {},
   "outputs": [
    {
     "name": "stderr",
     "output_type": "stream",
     "text": [
      "C:\\Users\\Laptech\\AppData\\Local\\Temp\\ipykernel_12320\\311431551.py:1: DeprecationWarning: \n",
      "Pyarrow will become a required dependency of pandas in the next major release of pandas (pandas 3.0),\n",
      "(to allow more performant data types, such as the Arrow string type, and better interoperability with other libraries)\n",
      "but was not found to be installed on your system.\n",
      "If this would cause problems for you,\n",
      "please provide us feedback at https://github.com/pandas-dev/pandas/issues/54466\n",
      "        \n",
      "  import pandas as pd\n"
     ]
    },
    {
     "name": "stdout",
     "output_type": "stream",
     "text": [
      "WARNING:tensorflow:From d:\\Python\\Python311\\Lib\\site-packages\\keras\\src\\losses.py:2976: The name tf.losses.sparse_softmax_cross_entropy is deprecated. Please use tf.compat.v1.losses.sparse_softmax_cross_entropy instead.\n",
      "\n"
     ]
    }
   ],
   "source": [
    "import pandas as pd\n",
    "import numpy as np\n",
    "import seaborn as sns\n",
    "import tensorflow as tf\n",
    "import matplotlib.pyplot as plt\n",
    "\n",
    "from sklearn.model_selection import train_test_split\n",
    "from tensorflow import keras\n",
    "from tensorflow.keras import layers\n",
    "from sklearn.metrics import r2_score"
   ]
  },
  {
   "cell_type": "code",
   "execution_count": 2,
   "id": "66232c38",
   "metadata": {},
   "outputs": [
    {
     "data": {
      "text/plain": [
       "(524, 51)"
      ]
     },
     "execution_count": 2,
     "metadata": {},
     "output_type": "execute_result"
    }
   ],
   "source": [
    "csv_file_path = 'input(50)=3.2-3.6 ahakku , output(1)=4.2 ahakku train.csv'\n",
    "\n",
    "df = pd.read_csv(csv_file_path)\n",
    "\n",
    "df.shape"
   ]
  },
  {
   "cell_type": "code",
   "execution_count": 3,
   "id": "1d4bc1d9",
   "metadata": {},
   "outputs": [],
   "source": [
    "X = df.iloc[:, :-1]\n",
    "y = df.iloc[:, -1:]\n",
    "\n",
    "# y = y*100\n",
    "\n",
    "X_train =X\n",
    "y_train =y\n",
    "\n",
    "# X_train, X_test, y_train, y_test = train_test_split(X, y, test_size=0.1, random_state=42)\n",
    "\n",
    "# # Print the shapes of the resulting sets\n",
    "# print(\"X_train shape:\", X_train.shape)\n",
    "# print(\"X_test shape:\", X_test.shape)\n",
    "# print(\"y_train shape:\", y_train.shape)\n",
    "# print(\"y_test shape:\", y_test.shape)"
   ]
  },
  {
   "cell_type": "code",
   "execution_count": 17,
   "id": "bc52db3e",
   "metadata": {},
   "outputs": [
    {
     "name": "stdout",
     "output_type": "stream",
     "text": [
      "Model: \"sequential_1\"\n",
      "_________________________________________________________________\n",
      " Layer (type)                Output Shape              Param #   \n",
      "=================================================================\n",
      " dense_4 (Dense)             (None, 64)                3264      \n",
      "                                                                 \n",
      " dense_5 (Dense)             (None, 128)               8320      \n",
      "                                                                 \n",
      " dense_6 (Dense)             (None, 64)                8256      \n",
      "                                                                 \n",
      " dense_7 (Dense)             (None, 1)                 65        \n",
      "                                                                 \n",
      "=================================================================\n",
      "Total params: 19905 (77.75 KB)\n",
      "Trainable params: 19905 (77.75 KB)\n",
      "Non-trainable params: 0 (0.00 Byte)\n",
      "_________________________________________________________________\n"
     ]
    }
   ],
   "source": [
    "model = keras.Sequential([\n",
    "    layers.Dense(64, activation='relu', input_shape=(X_train.shape[1],)),\n",
    "    layers.Dense(128, activation='relu'),\n",
    "    layers.Dense(64, activation='relu'),\n",
    "    layers.Dense(1, activation='linear')\n",
    "])\n",
    "\n",
    "model.summary()"
   ]
  },
  {
   "cell_type": "code",
   "execution_count": 18,
   "id": "bd70938f",
   "metadata": {},
   "outputs": [],
   "source": [
    "model.compile(optimizer='adam', loss=tf.compat.v1.losses.mean_squared_error)"
   ]
  },
  {
   "cell_type": "code",
   "execution_count": 19,
   "id": "3e136f79",
   "metadata": {},
   "outputs": [
    {
     "name": "stdout",
     "output_type": "stream",
     "text": [
      "Epoch 1/50\n",
      "11/11 [==============================] - 3s 89ms/step - loss: 1.1409 - val_loss: 0.3178\n",
      "Epoch 2/50\n",
      "11/11 [==============================] - 0s 21ms/step - loss: 0.2244 - val_loss: 0.2061\n",
      "Epoch 3/50\n",
      "11/11 [==============================] - 0s 23ms/step - loss: 0.1473 - val_loss: 0.1208\n",
      "Epoch 4/50\n",
      "11/11 [==============================] - 0s 18ms/step - loss: 0.1161 - val_loss: 0.0802\n",
      "Epoch 5/50\n",
      "11/11 [==============================] - 0s 22ms/step - loss: 0.0865 - val_loss: 0.0556\n",
      "Epoch 6/50\n",
      "11/11 [==============================] - 0s 23ms/step - loss: 0.0640 - val_loss: 0.0349\n",
      "Epoch 7/50\n",
      "11/11 [==============================] - 0s 19ms/step - loss: 0.0421 - val_loss: 0.0186\n",
      "Epoch 8/50\n",
      "11/11 [==============================] - 0s 23ms/step - loss: 0.0265 - val_loss: 0.0107\n",
      "Epoch 9/50\n",
      "11/11 [==============================] - 0s 24ms/step - loss: 0.0195 - val_loss: 0.0088\n",
      "Epoch 10/50\n",
      "11/11 [==============================] - 0s 20ms/step - loss: 0.0161 - val_loss: 0.0074\n",
      "Epoch 11/50\n",
      "11/11 [==============================] - 0s 22ms/step - loss: 0.0134 - val_loss: 0.0047\n",
      "Epoch 12/50\n",
      "11/11 [==============================] - 0s 24ms/step - loss: 0.0112 - val_loss: 0.0039\n",
      "Epoch 13/50\n",
      "11/11 [==============================] - 0s 26ms/step - loss: 0.0111 - val_loss: 0.0031\n",
      "Epoch 14/50\n",
      "11/11 [==============================] - 0s 23ms/step - loss: 0.0091 - val_loss: 0.0028\n",
      "Epoch 15/50\n",
      "11/11 [==============================] - 0s 22ms/step - loss: 0.0082 - val_loss: 0.0024\n",
      "Epoch 16/50\n",
      "11/11 [==============================] - 0s 20ms/step - loss: 0.0080 - val_loss: 0.0021\n",
      "Epoch 17/50\n",
      "11/11 [==============================] - 0s 21ms/step - loss: 0.0076 - val_loss: 0.0018\n",
      "Epoch 18/50\n",
      "11/11 [==============================] - 0s 14ms/step - loss: 0.0074 - val_loss: 0.0020\n",
      "Epoch 19/50\n",
      "11/11 [==============================] - 0s 18ms/step - loss: 0.0073 - val_loss: 0.0019\n",
      "Epoch 20/50\n",
      "11/11 [==============================] - 0s 15ms/step - loss: 0.0073 - val_loss: 0.0024\n",
      "Epoch 21/50\n",
      "11/11 [==============================] - 0s 12ms/step - loss: 0.0088 - val_loss: 0.0027\n",
      "Epoch 22/50\n",
      "11/11 [==============================] - 0s 14ms/step - loss: 0.0073 - val_loss: 0.0018\n",
      "Epoch 23/50\n",
      "11/11 [==============================] - 0s 10ms/step - loss: 0.0076 - val_loss: 0.0029\n",
      "Epoch 24/50\n",
      "11/11 [==============================] - 0s 14ms/step - loss: 0.0078 - val_loss: 0.0021\n",
      "Epoch 25/50\n",
      "11/11 [==============================] - 0s 17ms/step - loss: 0.0078 - val_loss: 0.0020\n",
      "Epoch 26/50\n",
      "11/11 [==============================] - 0s 23ms/step - loss: 0.0074 - val_loss: 0.0025\n",
      "Epoch 27/50\n",
      "11/11 [==============================] - 0s 35ms/step - loss: 0.0073 - val_loss: 0.0019\n",
      "Epoch 28/50\n",
      "11/11 [==============================] - 0s 11ms/step - loss: 0.0074 - val_loss: 0.0018\n",
      "Epoch 29/50\n",
      "11/11 [==============================] - 0s 10ms/step - loss: 0.0074 - val_loss: 0.0040\n",
      "Epoch 30/50\n",
      "11/11 [==============================] - 0s 11ms/step - loss: 0.0098 - val_loss: 0.0110\n",
      "Epoch 31/50\n",
      "11/11 [==============================] - 0s 15ms/step - loss: 0.0105 - val_loss: 0.0033\n",
      "Epoch 32/50\n",
      "11/11 [==============================] - 0s 23ms/step - loss: 0.0086 - val_loss: 0.0017\n",
      "Epoch 33/50\n",
      "11/11 [==============================] - 0s 23ms/step - loss: 0.0076 - val_loss: 0.0020\n",
      "Epoch 34/50\n",
      "11/11 [==============================] - 0s 8ms/step - loss: 0.0081 - val_loss: 0.0022\n",
      "Epoch 35/50\n",
      "11/11 [==============================] - 0s 11ms/step - loss: 0.0075 - val_loss: 0.0058\n",
      "Epoch 36/50\n",
      "11/11 [==============================] - 0s 9ms/step - loss: 0.0083 - val_loss: 0.0015\n",
      "Epoch 37/50\n",
      "11/11 [==============================] - 0s 17ms/step - loss: 0.0072 - val_loss: 0.0022\n",
      "Epoch 38/50\n",
      "11/11 [==============================] - 0s 11ms/step - loss: 0.0071 - val_loss: 0.0018\n",
      "Epoch 39/50\n",
      "11/11 [==============================] - 0s 12ms/step - loss: 0.0078 - val_loss: 0.0019\n",
      "Epoch 40/50\n",
      "11/11 [==============================] - 0s 12ms/step - loss: 0.0076 - val_loss: 0.0023\n",
      "Epoch 41/50\n",
      "11/11 [==============================] - 0s 10ms/step - loss: 0.0077 - val_loss: 0.0036\n",
      "Epoch 42/50\n",
      "11/11 [==============================] - 0s 11ms/step - loss: 0.0073 - val_loss: 0.0021\n",
      "Epoch 43/50\n",
      "11/11 [==============================] - 0s 9ms/step - loss: 0.0072 - val_loss: 0.0019\n",
      "Epoch 44/50\n",
      "11/11 [==============================] - 0s 8ms/step - loss: 0.0076 - val_loss: 0.0018\n",
      "Epoch 45/50\n",
      "11/11 [==============================] - 0s 8ms/step - loss: 0.0075 - val_loss: 0.0019\n",
      "Epoch 46/50\n",
      "11/11 [==============================] - 0s 9ms/step - loss: 0.0077 - val_loss: 0.0029\n",
      "Epoch 47/50\n",
      "11/11 [==============================] - 0s 7ms/step - loss: 0.0078 - val_loss: 0.0024\n",
      "Epoch 48/50\n",
      "11/11 [==============================] - 0s 10ms/step - loss: 0.0074 - val_loss: 0.0025\n",
      "Epoch 49/50\n",
      "11/11 [==============================] - 0s 7ms/step - loss: 0.0072 - val_loss: 0.0021\n",
      "Epoch 50/50\n",
      "11/11 [==============================] - 0s 7ms/step - loss: 0.0076 - val_loss: 0.0017\n"
     ]
    }
   ],
   "source": [
    "history = model.fit(X_train, y_train, epochs=50, batch_size=40, validation_split=0.2)"
   ]
  },
  {
   "cell_type": "code",
   "execution_count": 20,
   "id": "ff7545ea",
   "metadata": {},
   "outputs": [
    {
     "data": {
      "image/png": "[encoded data removed]",
      "text/plain": [
       "<Figure size 1000x600 with 1 Axes>"
      ]
     },
     "metadata": {},
     "output_type": "display_data"
    }
   ],
   "source": [
    "train_loss = history.history['loss']\n",
    "val_loss = history.history['val_loss']\n",
    "\n",
    "epochs = np.arange(1, len(train_loss) + 1)\n",
    "plt.figure(figsize=(10, 6))\n",
    "plt.plot(epochs, train_loss, label='Training Loss')\n",
    "plt.plot(epochs, val_loss, label='Validation Loss')\n",
    "plt.title('Training and Validation Loss Over Epochs')\n",
    "plt.xlabel('Epochs')\n",
    "plt.ylabel('Loss')\n",
    "plt.legend()\n",
    "plt.show()"
   ]
  },
  {
   "cell_type": "code",
   "execution_count": 8,
   "id": "0d116a66",
   "metadata": {},
   "outputs": [],
   "source": [
    "# # Evaluate the model on the test set\n",
    "# loss = model.evaluate(X_test, y_test)\n",
    "# print(f\"Test Loss: {loss}\")\n",
    "# accuracy = 1 - loss\n",
    "# print(f\"Accuracy: {accuracy}\")"
   ]
  },
  {
   "cell_type": "code",
   "execution_count": 9,
   "id": "5527ef78",
   "metadata": {},
   "outputs": [],
   "source": [
    "# predictions = model.predict(X_test)\n",
    "\n",
    "# r2 = r2_score(y_test, predictions)\n",
    "# print(f\"R-squared (R2) Score: {r2}\")"
   ]
  },
  {
   "cell_type": "code",
   "execution_count": 10,
   "id": "4494f98e",
   "metadata": {},
   "outputs": [],
   "source": [
    "# y_test_values = y_test.to_numpy().flatten()\n",
    "\n",
    "# predictions = model.predict(X_test).flatten()\n",
    "\n",
    "# differences = y_test_values - predictions\n",
    "\n",
    "# sns.histplot(differences, bins=20, kde=True, color='blue', edgecolor='black', alpha=0.7)\n",
    "# plt.xlabel('Difference (True Value - Predicted Value)')\n",
    "# plt.ylabel('Frequency')\n",
    "# plt.title('Distribution of Differences between True Values and Predictions with KDE')\n",
    "# plt.show()"
   ]
  },
  {
   "cell_type": "markdown",
   "id": "6c37a719",
   "metadata": {},
   "source": [
    "#### Plot actual values vs predictions"
   ]
  },
  {
   "cell_type": "code",
   "execution_count": 11,
   "metadata": {},
   "outputs": [],
   "source": [
    "\n",
    "# predictions = model.predict(X_test).flatten()\n",
    "# plt.scatter(y_test, predictions,marker='.')\n",
    "# plt.xlabel('Actual Values')\n",
    "# plt.ylabel('Predictions')\n",
    "# plt.title('Actual Values vs Predictions')\n",
    "\n",
    "# plt.xlim(0.8, 1.15)\n",
    "# plt.ylim(0.8, 1.15)\n",
    "\n",
    "# plt.plot([0,2], [0,2], color='red', linestyle='--', label='Slope 1 Line')\n",
    "\n",
    "# plt.show()"
   ]
  },
  {
   "cell_type": "code",
   "execution_count": 21,
   "id": "08e8830a",
   "metadata": {},
   "outputs": [
    {
     "data": {
      "text/plain": [
       "(125, 51)"
      ]
     },
     "execution_count": 21,
     "metadata": {},
     "output_type": "execute_result"
    }
   ],
   "source": [
    "csv_file_path = 'input(50)=3.2-3.6 ahakku , output(1)=4.2 ahakku test.csv'\n",
    "\n",
    "df = pd.read_csv(csv_file_path)\n",
    "\n",
    "df.shape"
   ]
  },
  {
   "cell_type": "code",
   "execution_count": 22,
   "id": "465bd738",
   "metadata": {},
   "outputs": [],
   "source": [
    "X_test_ = df.iloc[:, :-1]\n",
    "y_test_ = df.iloc[:, -1:]\n"
   ]
  },
  {
   "cell_type": "code",
   "execution_count": 23,
   "id": "d6dbbe74",
   "metadata": {},
   "outputs": [
    {
     "name": "stdout",
     "output_type": "stream",
     "text": [
      "4/4 [==============================] - 0s 4ms/step - loss: 0.0036\n",
      "Test Loss: 0.0035522463731467724\n",
      "Accuracy: 0.9964477536268532\n"
     ]
    }
   ],
   "source": [
    "# Evaluate the model on the test set\n",
    "loss = model.evaluate(X_test_, y_test_)\n",
    "print(f\"Test Loss: {loss}\")\n",
    "accuracy = 1 - loss\n",
    "print(f\"Accuracy: {accuracy}\")"
   ]
  },
  {
   "cell_type": "code",
   "execution_count": 24,
   "id": "38860d05",
   "metadata": {},
   "outputs": [
    {
     "name": "stdout",
     "output_type": "stream",
     "text": [
      "4/4 [==============================] - 0s 6ms/step\n",
      "R-squared (R2) Score: 0.9848798389984275\n"
     ]
    }
   ],
   "source": [
    "predictions = model.predict(X_test_)\n",
    "\n",
    "r2 = r2_score(y_test_, predictions)\n",
    "print(f\"R-squared (R2) Score: {r2}\")"
   ]
  },
  {
   "cell_type": "code",
   "execution_count": 28,
   "id": "50505a1f",
   "metadata": {},
   "outputs": [
    {
     "name": "stdout",
     "output_type": "stream",
     "text": [
      "4/4 [==============================] - 0s 2ms/step\n"
     ]
    },
    {
     "data": {
      "image/png": "[encoded data removed]",
      "text/plain": [
       "<Figure size 640x480 with 1 Axes>"
      ]
     },
     "metadata": {},
     "output_type": "display_data"
    }
   ],
   "source": [
    "predictions = model.predict(X_test_).flatten()\n",
    "plt.scatter(y_test_, predictions,marker='.')\n",
    "plt.xlabel('Actual Values')\n",
    "plt.ylabel('Predictions')\n",
    "plt.title('Actual Values vs Predictions')\n",
    "\n",
    "# plt.xlim(0.8, 1.15)\n",
    "# plt.ylim(0.8, 1.15)\n",
    "\n",
    "plt.plot([0,2], [0,2], color='red', linestyle='--', label='Slope 1 Line')\n",
    "\n",
    "plt.show()"
   ]
  },
  {
   "cell_type": "code",
   "execution_count": null,
   "id": "2331f8bf",
   "metadata": {},
   "outputs": [],
   "source": []
  }
 ],
 "metadata": {
  "kernelspec": {
   "display_name": "Python 3 (ipykernel)",
   "language": "python",
   "name": "python3"
  },
  "language_info": {
   "codemirror_mode": {
    "name": "ipython",
    "version": 3
   },
   "file_extension": ".py",
   "mimetype": "text/x-python",
   "name": "python",
   "nbconvert_exporter": "python",
   "pygments_lexer": "ipython3",
   "version": "3.11.0"
  }
 },
 "nbformat": 4,
 "nbformat_minor": 5
}
